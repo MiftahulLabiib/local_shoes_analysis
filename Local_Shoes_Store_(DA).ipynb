{
  "nbformat": 4,
  "nbformat_minor": 0,
  "metadata": {
    "colab": {
      "provenance": [],
      "gpuType": "T4",
      "include_colab_link": true
    },
    "kernelspec": {
      "name": "python3",
      "display_name": "Python 3"
    },
    "language_info": {
      "name": "python"
    },
    "gpuClass": "standard"
  },
  "cells": [
    {
      "cell_type": "markdown",
      "metadata": {
        "id": "view-in-github",
        "colab_type": "text"
      },
      "source": [
        "<a href=\"https://colab.research.google.com/github/MiftahulLabiib/local_shoes_analysis/blob/main/Local_Shoes_Store_(DA).ipynb\" target=\"_parent\"><img src=\"https://colab.research.google.com/assets/colab-badge.svg\" alt=\"Open In Colab\"/></a>"
      ]
    },
    {
      "cell_type": "markdown",
      "source": [
        "# Profil Stakeholder\n",
        "**Denova** merupakan salah satu brand toko sepatu lokal di kota New York, Amerika Serikat.\n",
        "\n",
        "Toko sepatu ini ingin memasarkan produknya melalui e-commerce.\n",
        "\n",
        "Sebagai seorang Data Analyst, bantulah **Denova** dalam menyusun strategi pemasaran yang tepat."
      ],
      "metadata": {
        "id": "EqGtrQG5moau"
      }
    },
    {
      "cell_type": "markdown",
      "source": [
        "# Business Question\n",
        "- Platform penjualan/promosi online apa yang cocok? (Tio)\n",
        "- Jenis sepatu apa yang digemari masyarakat? (Labiib)\n",
        "- Berapa kisaran harga yang \"affordable\" bagi penduduk? (Hanan)"
      ],
      "metadata": {
        "id": "LWqOpibsmDJv"
      }
    },
    {
      "cell_type": "markdown",
      "source": [
        "# Load Dataset\n",
        "## Social Influence on Shopping (First Dataset)\n",
        "Dataset Description\n",
        "\n",
        "This data was collected on our social survey mobile platform Whatsgoodly. We have 300,000 millennial and Gen Z members, and have collected 150,000,000 survey responses from this demographic to date.\n",
        "\n",
        "https://data.world/ahalps/social-influence-on-shopping/workspace/file?filename=WhatsgoodlyData-6.csv"
      ],
      "metadata": {
        "id": "eZTeQAW_fVL-"
      }
    },
    {
      "cell_type": "code",
      "execution_count": null,
      "metadata": {
        "id": "CXPPtgcIjF3R",
        "colab": {
          "base_uri": "https://localhost:8080/",
          "height": 224
        },
        "outputId": "f890d700-c0dc-4c30-9ea0-af908836ecf2"
      },
      "outputs": [
        {
          "output_type": "stream",
          "name": "stdout",
          "text": [
            "Drive already mounted at /content/gdrive; to attempt to forcibly remount, call drive.mount(\"/content/gdrive\", force_remount=True).\n"
          ]
        },
        {
          "output_type": "execute_result",
          "data": {
            "text/plain": [
              "                                            Question Segment Type  \\\n",
              "0  What social platform has influenced your onlin...       Mobile   \n",
              "1  What social platform has influenced your onlin...       Mobile   \n",
              "2  What social platform has influenced your onlin...       Mobile   \n",
              "3  What social platform has influenced your onlin...       Mobile   \n",
              "4  What social platform has influenced your onlin...       Mobile   \n",
              "\n",
              "  Segment Description     Answer  Count  Percentage  \n",
              "0      Global results   Facebook    548       0.205  \n",
              "1      Global results  Instagram    916       0.342  \n",
              "2      Global results   Snapchat     86       0.032  \n",
              "3      Global results    Twitter    179       0.067  \n",
              "4      Global results       None    947       0.354  "
            ],
            "text/html": [
              "\n",
              "  <div id=\"df-bcc50cef-0c54-491f-bb31-d7b09637c8ba\">\n",
              "    <div class=\"colab-df-container\">\n",
              "      <div>\n",
              "<style scoped>\n",
              "    .dataframe tbody tr th:only-of-type {\n",
              "        vertical-align: middle;\n",
              "    }\n",
              "\n",
              "    .dataframe tbody tr th {\n",
              "        vertical-align: top;\n",
              "    }\n",
              "\n",
              "    .dataframe thead th {\n",
              "        text-align: right;\n",
              "    }\n",
              "</style>\n",
              "<table border=\"1\" class=\"dataframe\">\n",
              "  <thead>\n",
              "    <tr style=\"text-align: right;\">\n",
              "      <th></th>\n",
              "      <th>Question</th>\n",
              "      <th>Segment Type</th>\n",
              "      <th>Segment Description</th>\n",
              "      <th>Answer</th>\n",
              "      <th>Count</th>\n",
              "      <th>Percentage</th>\n",
              "    </tr>\n",
              "  </thead>\n",
              "  <tbody>\n",
              "    <tr>\n",
              "      <th>0</th>\n",
              "      <td>What social platform has influenced your onlin...</td>\n",
              "      <td>Mobile</td>\n",
              "      <td>Global results</td>\n",
              "      <td>Facebook</td>\n",
              "      <td>548</td>\n",
              "      <td>0.205</td>\n",
              "    </tr>\n",
              "    <tr>\n",
              "      <th>1</th>\n",
              "      <td>What social platform has influenced your onlin...</td>\n",
              "      <td>Mobile</td>\n",
              "      <td>Global results</td>\n",
              "      <td>Instagram</td>\n",
              "      <td>916</td>\n",
              "      <td>0.342</td>\n",
              "    </tr>\n",
              "    <tr>\n",
              "      <th>2</th>\n",
              "      <td>What social platform has influenced your onlin...</td>\n",
              "      <td>Mobile</td>\n",
              "      <td>Global results</td>\n",
              "      <td>Snapchat</td>\n",
              "      <td>86</td>\n",
              "      <td>0.032</td>\n",
              "    </tr>\n",
              "    <tr>\n",
              "      <th>3</th>\n",
              "      <td>What social platform has influenced your onlin...</td>\n",
              "      <td>Mobile</td>\n",
              "      <td>Global results</td>\n",
              "      <td>Twitter</td>\n",
              "      <td>179</td>\n",
              "      <td>0.067</td>\n",
              "    </tr>\n",
              "    <tr>\n",
              "      <th>4</th>\n",
              "      <td>What social platform has influenced your onlin...</td>\n",
              "      <td>Mobile</td>\n",
              "      <td>Global results</td>\n",
              "      <td>None</td>\n",
              "      <td>947</td>\n",
              "      <td>0.354</td>\n",
              "    </tr>\n",
              "  </tbody>\n",
              "</table>\n",
              "</div>\n",
              "      <button class=\"colab-df-convert\" onclick=\"convertToInteractive('df-bcc50cef-0c54-491f-bb31-d7b09637c8ba')\"\n",
              "              title=\"Convert this dataframe to an interactive table.\"\n",
              "              style=\"display:none;\">\n",
              "        \n",
              "  <svg xmlns=\"http://www.w3.org/2000/svg\" height=\"24px\"viewBox=\"0 0 24 24\"\n",
              "       width=\"24px\">\n",
              "    <path d=\"M0 0h24v24H0V0z\" fill=\"none\"/>\n",
              "    <path d=\"M18.56 5.44l.94 2.06.94-2.06 2.06-.94-2.06-.94-.94-2.06-.94 2.06-2.06.94zm-11 1L8.5 8.5l.94-2.06 2.06-.94-2.06-.94L8.5 2.5l-.94 2.06-2.06.94zm10 10l.94 2.06.94-2.06 2.06-.94-2.06-.94-.94-2.06-.94 2.06-2.06.94z\"/><path d=\"M17.41 7.96l-1.37-1.37c-.4-.4-.92-.59-1.43-.59-.52 0-1.04.2-1.43.59L10.3 9.45l-7.72 7.72c-.78.78-.78 2.05 0 2.83L4 21.41c.39.39.9.59 1.41.59.51 0 1.02-.2 1.41-.59l7.78-7.78 2.81-2.81c.8-.78.8-2.07 0-2.86zM5.41 20L4 18.59l7.72-7.72 1.47 1.35L5.41 20z\"/>\n",
              "  </svg>\n",
              "      </button>\n",
              "      \n",
              "  <style>\n",
              "    .colab-df-container {\n",
              "      display:flex;\n",
              "      flex-wrap:wrap;\n",
              "      gap: 12px;\n",
              "    }\n",
              "\n",
              "    .colab-df-convert {\n",
              "      background-color: #E8F0FE;\n",
              "      border: none;\n",
              "      border-radius: 50%;\n",
              "      cursor: pointer;\n",
              "      display: none;\n",
              "      fill: #1967D2;\n",
              "      height: 32px;\n",
              "      padding: 0 0 0 0;\n",
              "      width: 32px;\n",
              "    }\n",
              "\n",
              "    .colab-df-convert:hover {\n",
              "      background-color: #E2EBFA;\n",
              "      box-shadow: 0px 1px 2px rgba(60, 64, 67, 0.3), 0px 1px 3px 1px rgba(60, 64, 67, 0.15);\n",
              "      fill: #174EA6;\n",
              "    }\n",
              "\n",
              "    [theme=dark] .colab-df-convert {\n",
              "      background-color: #3B4455;\n",
              "      fill: #D2E3FC;\n",
              "    }\n",
              "\n",
              "    [theme=dark] .colab-df-convert:hover {\n",
              "      background-color: #434B5C;\n",
              "      box-shadow: 0px 1px 3px 1px rgba(0, 0, 0, 0.15);\n",
              "      filter: drop-shadow(0px 1px 2px rgba(0, 0, 0, 0.3));\n",
              "      fill: #FFFFFF;\n",
              "    }\n",
              "  </style>\n",
              "\n",
              "      <script>\n",
              "        const buttonEl =\n",
              "          document.querySelector('#df-bcc50cef-0c54-491f-bb31-d7b09637c8ba button.colab-df-convert');\n",
              "        buttonEl.style.display =\n",
              "          google.colab.kernel.accessAllowed ? 'block' : 'none';\n",
              "\n",
              "        async function convertToInteractive(key) {\n",
              "          const element = document.querySelector('#df-bcc50cef-0c54-491f-bb31-d7b09637c8ba');\n",
              "          const dataTable =\n",
              "            await google.colab.kernel.invokeFunction('convertToInteractive',\n",
              "                                                     [key], {});\n",
              "          if (!dataTable) return;\n",
              "\n",
              "          const docLinkHtml = 'Like what you see? Visit the ' +\n",
              "            '<a target=\"_blank\" href=https://colab.research.google.com/notebooks/data_table.ipynb>data table notebook</a>'\n",
              "            + ' to learn more about interactive tables.';\n",
              "          element.innerHTML = '';\n",
              "          dataTable['output_type'] = 'display_data';\n",
              "          await google.colab.output.renderOutput(dataTable, element);\n",
              "          const docLink = document.createElement('div');\n",
              "          docLink.innerHTML = docLinkHtml;\n",
              "          element.appendChild(docLink);\n",
              "        }\n",
              "      </script>\n",
              "    </div>\n",
              "  </div>\n",
              "  "
            ]
          },
          "metadata": {},
          "execution_count": 32
        }
      ],
      "source": [
        "# Load data\n",
        "import pandas as pd\n",
        "import numpy as np\n",
        "from google.colab import drive\n",
        "import matplotlib.pyplot as plt\n",
        "\n",
        "drive.mount('/content/gdrive')\n",
        "filename1 = 'gdrive/MyDrive/Dataset/Algoritma/WhatsgoodlyData-6.csv'\n",
        "df_social = pd.read_csv(filename1)\n",
        "df_social.head()"
      ]
    },
    {
      "cell_type": "markdown",
      "source": [
        "Column field description:\n",
        "* Question : Pertanyaan yang diajukan \"Platform media sosial apa yang paling mempengaruhi kamu dalam berbelanja online?\"\n",
        "* Segment Type : Pembagian kelompok tertentu\n",
        "* Segment Description : Penjelasan lebih lanjut dari \"Segment Type\"\n",
        "* Answer : Jawaban berupa nama platform media sosial\n",
        "* Count : Jumlah responden\n",
        "* Percentage : Proporsi dari jumlah total responden"
      ],
      "metadata": {
        "id": "ysMREkibihMX"
      }
    },
    {
      "cell_type": "code",
      "source": [
        "df_social.shape"
      ],
      "metadata": {
        "id": "kGM7zlMRhavH",
        "colab": {
          "base_uri": "https://localhost:8080/"
        },
        "outputId": "2a3e74c0-56b8-4686-8b63-d5c9881dabf4"
      },
      "execution_count": null,
      "outputs": [
        {
          "output_type": "execute_result",
          "data": {
            "text/plain": [
              "(1450, 6)"
            ]
          },
          "metadata": {},
          "execution_count": 2
        }
      ]
    },
    {
      "cell_type": "markdown",
      "source": [
        "# Data Cleaning"
      ],
      "metadata": {
        "id": "hItLeIorZRLp"
      }
    },
    {
      "cell_type": "code",
      "source": [
        "df_social.isna().sum()"
      ],
      "metadata": {
        "id": "xo_ABhIShpMb",
        "colab": {
          "base_uri": "https://localhost:8080/"
        },
        "outputId": "e56964da-f2fe-4c4f-a736-1cb0ac136e2e"
      },
      "execution_count": null,
      "outputs": [
        {
          "output_type": "execute_result",
          "data": {
            "text/plain": [
              "Question               0\n",
              "Segment Type           0\n",
              "Segment Description    0\n",
              "Answer                 0\n",
              "Count                  0\n",
              "Percentage             0\n",
              "dtype: int64"
            ]
          },
          "metadata": {},
          "execution_count": 3
        }
      ]
    },
    {
      "cell_type": "code",
      "source": [
        "df_social[\"Question\"].value_counts()"
      ],
      "metadata": {
        "id": "pJLKE0OvnXkY",
        "colab": {
          "base_uri": "https://localhost:8080/"
        },
        "outputId": "27a6a3c1-bca3-40ef-cbc8-2256b2c4d07c"
      },
      "execution_count": null,
      "outputs": [
        {
          "output_type": "execute_result",
          "data": {
            "text/plain": [
              "What social platform has influenced your online shopping most?    1450\n",
              "Name: Question, dtype: int64"
            ]
          },
          "metadata": {},
          "execution_count": 4
        }
      ]
    },
    {
      "cell_type": "code",
      "source": [
        "# Hapus kolom Question karena hanya berisi satu kalimat yang sama\n",
        "df_social.drop(\"Question\", axis=1, inplace=True)"
      ],
      "metadata": {
        "id": "cIEOpKvX0LAn"
      },
      "execution_count": null,
      "outputs": []
    },
    {
      "cell_type": "code",
      "source": [
        "df_social.dtypes"
      ],
      "metadata": {
        "id": "i4YFZ3VuhzKg",
        "colab": {
          "base_uri": "https://localhost:8080/"
        },
        "outputId": "a2f4c8a8-0e97-4380-d052-60eabcbb14ee"
      },
      "execution_count": null,
      "outputs": [
        {
          "output_type": "execute_result",
          "data": {
            "text/plain": [
              "Segment Type            object\n",
              "Segment Description     object\n",
              "Answer                  object\n",
              "Count                    int64\n",
              "Percentage             float64\n",
              "dtype: object"
            ]
          },
          "metadata": {},
          "execution_count": 6
        }
      ]
    },
    {
      "cell_type": "code",
      "source": [
        "df_social['Segment Type'].value_counts()"
      ],
      "metadata": {
        "id": "U7MxpSxnhzt9",
        "colab": {
          "base_uri": "https://localhost:8080/"
        },
        "outputId": "8466ec15-01f0-42ac-f8db-b66594c03967"
      },
      "execution_count": null,
      "outputs": [
        {
          "output_type": "execute_result",
          "data": {
            "text/plain": [
              "University    870\n",
              "Custom        560\n",
              "Gender         10\n",
              "Mobile          5\n",
              "Web             5\n",
              "Name: Segment Type, dtype: int64"
            ]
          },
          "metadata": {},
          "execution_count": 7
        }
      ]
    },
    {
      "cell_type": "code",
      "source": [
        "df_social['Answer'].value_counts()"
      ],
      "metadata": {
        "id": "fTermbRzhz1I",
        "colab": {
          "base_uri": "https://localhost:8080/"
        },
        "outputId": "14e7971c-61d2-4fad-956b-b9a457269d1f"
      },
      "execution_count": null,
      "outputs": [
        {
          "output_type": "execute_result",
          "data": {
            "text/plain": [
              "Facebook     290\n",
              "Instagram    290\n",
              "Snapchat     290\n",
              "Twitter      290\n",
              "None         290\n",
              "Name: Answer, dtype: int64"
            ]
          },
          "metadata": {},
          "execution_count": 8
        }
      ]
    },
    {
      "cell_type": "code",
      "source": [
        "df_social[['Segment Type','Answer']] = df_social[['Segment Type','Answer']].astype(\"category\")"
      ],
      "metadata": {
        "id": "rYahG0wvhzxx"
      },
      "execution_count": null,
      "outputs": []
    },
    {
      "cell_type": "markdown",
      "source": [
        "# Exploratory Data Analysis"
      ],
      "metadata": {
        "id": "vqVxc2h4ZEQ0"
      }
    },
    {
      "cell_type": "markdown",
      "source": [
        "## Question: What platform did the people mostly used?"
      ],
      "metadata": {
        "id": "FwSM-aLsH6mP"
      }
    },
    {
      "cell_type": "code",
      "source": [
        "df_social.pivot_table(index='Answer', values='Count', aggfunc='sum')"
      ],
      "metadata": {
        "id": "NrpXT0da8ieY",
        "colab": {
          "base_uri": "https://localhost:8080/",
          "height": 238
        },
        "outputId": "91735f14-c2ec-4fbc-c4b2-d775ada0af88"
      },
      "execution_count": null,
      "outputs": [
        {
          "output_type": "execute_result",
          "data": {
            "text/plain": [
              "           Count\n",
              "Answer          \n",
              "Facebook   10329\n",
              "Instagram  16524\n",
              "None       18936\n",
              "Snapchat    1574\n",
              "Twitter     3407"
            ],
            "text/html": [
              "\n",
              "  <div id=\"df-b3c58ad5-7d59-4518-bf5e-2d873dbd4e7d\">\n",
              "    <div class=\"colab-df-container\">\n",
              "      <div>\n",
              "<style scoped>\n",
              "    .dataframe tbody tr th:only-of-type {\n",
              "        vertical-align: middle;\n",
              "    }\n",
              "\n",
              "    .dataframe tbody tr th {\n",
              "        vertical-align: top;\n",
              "    }\n",
              "\n",
              "    .dataframe thead th {\n",
              "        text-align: right;\n",
              "    }\n",
              "</style>\n",
              "<table border=\"1\" class=\"dataframe\">\n",
              "  <thead>\n",
              "    <tr style=\"text-align: right;\">\n",
              "      <th></th>\n",
              "      <th>Count</th>\n",
              "    </tr>\n",
              "    <tr>\n",
              "      <th>Answer</th>\n",
              "      <th></th>\n",
              "    </tr>\n",
              "  </thead>\n",
              "  <tbody>\n",
              "    <tr>\n",
              "      <th>Facebook</th>\n",
              "      <td>10329</td>\n",
              "    </tr>\n",
              "    <tr>\n",
              "      <th>Instagram</th>\n",
              "      <td>16524</td>\n",
              "    </tr>\n",
              "    <tr>\n",
              "      <th>None</th>\n",
              "      <td>18936</td>\n",
              "    </tr>\n",
              "    <tr>\n",
              "      <th>Snapchat</th>\n",
              "      <td>1574</td>\n",
              "    </tr>\n",
              "    <tr>\n",
              "      <th>Twitter</th>\n",
              "      <td>3407</td>\n",
              "    </tr>\n",
              "  </tbody>\n",
              "</table>\n",
              "</div>\n",
              "      <button class=\"colab-df-convert\" onclick=\"convertToInteractive('df-b3c58ad5-7d59-4518-bf5e-2d873dbd4e7d')\"\n",
              "              title=\"Convert this dataframe to an interactive table.\"\n",
              "              style=\"display:none;\">\n",
              "        \n",
              "  <svg xmlns=\"http://www.w3.org/2000/svg\" height=\"24px\"viewBox=\"0 0 24 24\"\n",
              "       width=\"24px\">\n",
              "    <path d=\"M0 0h24v24H0V0z\" fill=\"none\"/>\n",
              "    <path d=\"M18.56 5.44l.94 2.06.94-2.06 2.06-.94-2.06-.94-.94-2.06-.94 2.06-2.06.94zm-11 1L8.5 8.5l.94-2.06 2.06-.94-2.06-.94L8.5 2.5l-.94 2.06-2.06.94zm10 10l.94 2.06.94-2.06 2.06-.94-2.06-.94-.94-2.06-.94 2.06-2.06.94z\"/><path d=\"M17.41 7.96l-1.37-1.37c-.4-.4-.92-.59-1.43-.59-.52 0-1.04.2-1.43.59L10.3 9.45l-7.72 7.72c-.78.78-.78 2.05 0 2.83L4 21.41c.39.39.9.59 1.41.59.51 0 1.02-.2 1.41-.59l7.78-7.78 2.81-2.81c.8-.78.8-2.07 0-2.86zM5.41 20L4 18.59l7.72-7.72 1.47 1.35L5.41 20z\"/>\n",
              "  </svg>\n",
              "      </button>\n",
              "      \n",
              "  <style>\n",
              "    .colab-df-container {\n",
              "      display:flex;\n",
              "      flex-wrap:wrap;\n",
              "      gap: 12px;\n",
              "    }\n",
              "\n",
              "    .colab-df-convert {\n",
              "      background-color: #E8F0FE;\n",
              "      border: none;\n",
              "      border-radius: 50%;\n",
              "      cursor: pointer;\n",
              "      display: none;\n",
              "      fill: #1967D2;\n",
              "      height: 32px;\n",
              "      padding: 0 0 0 0;\n",
              "      width: 32px;\n",
              "    }\n",
              "\n",
              "    .colab-df-convert:hover {\n",
              "      background-color: #E2EBFA;\n",
              "      box-shadow: 0px 1px 2px rgba(60, 64, 67, 0.3), 0px 1px 3px 1px rgba(60, 64, 67, 0.15);\n",
              "      fill: #174EA6;\n",
              "    }\n",
              "\n",
              "    [theme=dark] .colab-df-convert {\n",
              "      background-color: #3B4455;\n",
              "      fill: #D2E3FC;\n",
              "    }\n",
              "\n",
              "    [theme=dark] .colab-df-convert:hover {\n",
              "      background-color: #434B5C;\n",
              "      box-shadow: 0px 1px 3px 1px rgba(0, 0, 0, 0.15);\n",
              "      filter: drop-shadow(0px 1px 2px rgba(0, 0, 0, 0.3));\n",
              "      fill: #FFFFFF;\n",
              "    }\n",
              "  </style>\n",
              "\n",
              "      <script>\n",
              "        const buttonEl =\n",
              "          document.querySelector('#df-b3c58ad5-7d59-4518-bf5e-2d873dbd4e7d button.colab-df-convert');\n",
              "        buttonEl.style.display =\n",
              "          google.colab.kernel.accessAllowed ? 'block' : 'none';\n",
              "\n",
              "        async function convertToInteractive(key) {\n",
              "          const element = document.querySelector('#df-b3c58ad5-7d59-4518-bf5e-2d873dbd4e7d');\n",
              "          const dataTable =\n",
              "            await google.colab.kernel.invokeFunction('convertToInteractive',\n",
              "                                                     [key], {});\n",
              "          if (!dataTable) return;\n",
              "\n",
              "          const docLinkHtml = 'Like what you see? Visit the ' +\n",
              "            '<a target=\"_blank\" href=https://colab.research.google.com/notebooks/data_table.ipynb>data table notebook</a>'\n",
              "            + ' to learn more about interactive tables.';\n",
              "          element.innerHTML = '';\n",
              "          dataTable['output_type'] = 'display_data';\n",
              "          await google.colab.output.renderOutput(dataTable, element);\n",
              "          const docLink = document.createElement('div');\n",
              "          docLink.innerHTML = docLinkHtml;\n",
              "          element.appendChild(docLink);\n",
              "        }\n",
              "      </script>\n",
              "    </div>\n",
              "  </div>\n",
              "  "
            ]
          },
          "metadata": {},
          "execution_count": 10
        }
      ]
    },
    {
      "cell_type": "code",
      "source": [
        "df_social.pivot_table(index='Answer', values='Count', aggfunc='sum').plot.bar();"
      ],
      "metadata": {
        "colab": {
          "base_uri": "https://localhost:8080/",
          "height": 506
        },
        "id": "a9F7UTvnHhZQ",
        "outputId": "0f5a8a4b-810d-4036-da21-2c60dc2c1607"
      },
      "execution_count": null,
      "outputs": [
        {
          "output_type": "display_data",
          "data": {
            "text/plain": [
              "<Figure size 640x480 with 1 Axes>"
            ],
            "image/png": "[encoded data removed]"
          },
          "metadata": {}
        }
      ]
    },
    {
      "cell_type": "code",
      "source": [
        "# How many people choose \"None\"\n",
        "summary = df_social.pivot_table(index='Answer', values='Count', aggfunc='sum')\n",
        "summary.loc['None','Count'] / summary['Count'].sum()"
      ],
      "metadata": {
        "colab": {
          "base_uri": "https://localhost:8080/"
        },
        "id": "2c0UQXpaiwof",
        "outputId": "ee196259-6c2e-4b3f-f197-ed610b971c05"
      },
      "execution_count": null,
      "outputs": [
        {
          "output_type": "execute_result",
          "data": {
            "text/plain": [
              "0.3729761670277723"
            ]
          },
          "metadata": {},
          "execution_count": 12
        }
      ]
    },
    {
      "cell_type": "code",
      "source": [
        "# Remove category \"None\"\n",
        "answer_without_None = df_social[df_social['Answer'] != 'None']\n",
        "answer_without_None['Answer'] = answer_without_None['Answer'].cat.remove_unused_categories()"
      ],
      "metadata": {
        "id": "hGOmt-XaeEd9",
        "colab": {
          "base_uri": "https://localhost:8080/"
        },
        "outputId": "92f65904-c698-4b6c-ca01-82677b3ecd2d"
      },
      "execution_count": null,
      "outputs": [
        {
          "output_type": "stream",
          "name": "stderr",
          "text": [
            "<ipython-input-13-fcf62fc0ab2f>:3: SettingWithCopyWarning: \n",
            "A value is trying to be set on a copy of a slice from a DataFrame.\n",
            "Try using .loc[row_indexer,col_indexer] = value instead\n",
            "\n",
            "See the caveats in the documentation: https://pandas.pydata.org/pandas-docs/stable/user_guide/indexing.html#returning-a-view-versus-a-copy\n",
            "  answer_without_None['Answer'] = answer_without_None['Answer'].cat.remove_unused_categories()\n"
          ]
        }
      ]
    },
    {
      "cell_type": "code",
      "source": [
        "answer_without_None.pivot_table(index='Answer', values='Count', aggfunc='sum').plot.bar();"
      ],
      "metadata": {
        "id": "bIQoQSlKhz5C",
        "colab": {
          "base_uri": "https://localhost:8080/",
          "height": 506
        },
        "outputId": "b383ee63-9a65-4b50-bcf4-192e64bbc245"
      },
      "execution_count": null,
      "outputs": [
        {
          "output_type": "display_data",
          "data": {
            "text/plain": [
              "<Figure size 640x480 with 1 Axes>"
            ],
            "image/png": "[encoded data removed]"
          },
          "metadata": {}
        }
      ]
    },
    {
      "cell_type": "code",
      "source": [
        "answer_without_None.pivot_table(index='Answer', values='Count', aggfunc='sum').plot.pie(subplots=True,\n",
        "                                                                                        autopct='%1.2f%%',\n",
        "                                                                                        colors=['royalblue',\n",
        "                                                                                                'hotpink',\n",
        "                                                                                                'yellow',\n",
        "                                                                                                'lightblue']);\n",
        "plt.title(\"Most Influential Social Media Platform\");\n",
        "plt.ylabel(None);\n",
        "plt.legend(loc='upper left');"
      ],
      "metadata": {
        "colab": {
          "base_uri": "https://localhost:8080/",
          "height": 428
        },
        "id": "2yfdHHwVUruo",
        "outputId": "fd3af3f9-11ea-4228-fe2c-da4203678b24"
      },
      "execution_count": null,
      "outputs": [
        {
          "output_type": "display_data",
          "data": {
            "text/plain": [
              "<Figure size 640x480 with 1 Axes>"
            ],
            "image/png": "[encoded data removed]"
          },
          "metadata": {}
        }
      ]
    },
    {
      "cell_type": "markdown",
      "source": [
        "## Investigate the Segment"
      ],
      "metadata": {
        "id": "bxVnCKwpKwz5"
      }
    },
    {
      "cell_type": "code",
      "source": [
        "df_social['Segment Type'].value_counts()"
      ],
      "metadata": {
        "colab": {
          "base_uri": "https://localhost:8080/"
        },
        "id": "jtG6BHdRE9Es",
        "outputId": "cea994d1-a62a-46b9-c370-fb0eaf6849b5"
      },
      "execution_count": null,
      "outputs": [
        {
          "output_type": "execute_result",
          "data": {
            "text/plain": [
              "University    870\n",
              "Custom        560\n",
              "Gender         10\n",
              "Mobile          5\n",
              "Web             5\n",
              "Name: Segment Type, dtype: int64"
            ]
          },
          "metadata": {},
          "execution_count": 16
        }
      ]
    },
    {
      "cell_type": "markdown",
      "source": [
        "### Gender Segment"
      ],
      "metadata": {
        "id": "i34pyoNokVnR"
      }
    },
    {
      "cell_type": "code",
      "source": [
        "df_social[df_social['Segment Type'] == 'Gender']['Segment Description'].value_counts()"
      ],
      "metadata": {
        "colab": {
          "base_uri": "https://localhost:8080/"
        },
        "id": "BD0up2_iE9IY",
        "outputId": "8fd66d44-3131-4e29-8d1f-b41f6f777d59"
      },
      "execution_count": null,
      "outputs": [
        {
          "output_type": "execute_result",
          "data": {
            "text/plain": [
              "Female voters    5\n",
              "Male voters      5\n",
              "Name: Segment Description, dtype: int64"
            ]
          },
          "metadata": {},
          "execution_count": 17
        }
      ]
    },
    {
      "cell_type": "code",
      "source": [
        "gender = df_social[df_social['Segment Type'] == \"Gender\"].iloc[:,1:-1]\n",
        "gender"
      ],
      "metadata": {
        "id": "f3N4-Unz8iv8",
        "colab": {
          "base_uri": "https://localhost:8080/",
          "height": 363
        },
        "outputId": "b14fce32-e78e-4e85-e244-766fad20e2fd"
      },
      "execution_count": null,
      "outputs": [
        {
          "output_type": "execute_result",
          "data": {
            "text/plain": [
              "   Segment Description     Answer  Count\n",
              "10       Female voters   Facebook    222\n",
              "11       Female voters  Instagram    535\n",
              "12       Female voters   Snapchat     29\n",
              "13       Female voters    Twitter     57\n",
              "14       Female voters       None    271\n",
              "15         Male voters   Facebook    326\n",
              "16         Male voters  Instagram    380\n",
              "17         Male voters   Snapchat     56\n",
              "18         Male voters    Twitter    122\n",
              "19         Male voters       None    678"
            ],
            "text/html": [
              "\n",
              "  <div id=\"df-94ccdc80-b94e-4a0c-833f-dbae6ad49645\">\n",
              "    <div class=\"colab-df-container\">\n",
              "      <div>\n",
              "<style scoped>\n",
              "    .dataframe tbody tr th:only-of-type {\n",
              "        vertical-align: middle;\n",
              "    }\n",
              "\n",
              "    .dataframe tbody tr th {\n",
              "        vertical-align: top;\n",
              "    }\n",
              "\n",
              "    .dataframe thead th {\n",
              "        text-align: right;\n",
              "    }\n",
              "</style>\n",
              "<table border=\"1\" class=\"dataframe\">\n",
              "  <thead>\n",
              "    <tr style=\"text-align: right;\">\n",
              "      <th></th>\n",
              "      <th>Segment Description</th>\n",
              "      <th>Answer</th>\n",
              "      <th>Count</th>\n",
              "    </tr>\n",
              "  </thead>\n",
              "  <tbody>\n",
              "    <tr>\n",
              "      <th>10</th>\n",
              "      <td>Female voters</td>\n",
              "      <td>Facebook</td>\n",
              "      <td>222</td>\n",
              "    </tr>\n",
              "    <tr>\n",
              "      <th>11</th>\n",
              "      <td>Female voters</td>\n",
              "      <td>Instagram</td>\n",
              "      <td>535</td>\n",
              "    </tr>\n",
              "    <tr>\n",
              "      <th>12</th>\n",
              "      <td>Female voters</td>\n",
              "      <td>Snapchat</td>\n",
              "      <td>29</td>\n",
              "    </tr>\n",
              "    <tr>\n",
              "      <th>13</th>\n",
              "      <td>Female voters</td>\n",
              "      <td>Twitter</td>\n",
              "      <td>57</td>\n",
              "    </tr>\n",
              "    <tr>\n",
              "      <th>14</th>\n",
              "      <td>Female voters</td>\n",
              "      <td>None</td>\n",
              "      <td>271</td>\n",
              "    </tr>\n",
              "    <tr>\n",
              "      <th>15</th>\n",
              "      <td>Male voters</td>\n",
              "      <td>Facebook</td>\n",
              "      <td>326</td>\n",
              "    </tr>\n",
              "    <tr>\n",
              "      <th>16</th>\n",
              "      <td>Male voters</td>\n",
              "      <td>Instagram</td>\n",
              "      <td>380</td>\n",
              "    </tr>\n",
              "    <tr>\n",
              "      <th>17</th>\n",
              "      <td>Male voters</td>\n",
              "      <td>Snapchat</td>\n",
              "      <td>56</td>\n",
              "    </tr>\n",
              "    <tr>\n",
              "      <th>18</th>\n",
              "      <td>Male voters</td>\n",
              "      <td>Twitter</td>\n",
              "      <td>122</td>\n",
              "    </tr>\n",
              "    <tr>\n",
              "      <th>19</th>\n",
              "      <td>Male voters</td>\n",
              "      <td>None</td>\n",
              "      <td>678</td>\n",
              "    </tr>\n",
              "  </tbody>\n",
              "</table>\n",
              "</div>\n",
              "      <button class=\"colab-df-convert\" onclick=\"convertToInteractive('df-94ccdc80-b94e-4a0c-833f-dbae6ad49645')\"\n",
              "              title=\"Convert this dataframe to an interactive table.\"\n",
              "              style=\"display:none;\">\n",
              "        \n",
              "  <svg xmlns=\"http://www.w3.org/2000/svg\" height=\"24px\"viewBox=\"0 0 24 24\"\n",
              "       width=\"24px\">\n",
              "    <path d=\"M0 0h24v24H0V0z\" fill=\"none\"/>\n",
              "    <path d=\"M18.56 5.44l.94 2.06.94-2.06 2.06-.94-2.06-.94-.94-2.06-.94 2.06-2.06.94zm-11 1L8.5 8.5l.94-2.06 2.06-.94-2.06-.94L8.5 2.5l-.94 2.06-2.06.94zm10 10l.94 2.06.94-2.06 2.06-.94-2.06-.94-.94-2.06-.94 2.06-2.06.94z\"/><path d=\"M17.41 7.96l-1.37-1.37c-.4-.4-.92-.59-1.43-.59-.52 0-1.04.2-1.43.59L10.3 9.45l-7.72 7.72c-.78.78-.78 2.05 0 2.83L4 21.41c.39.39.9.59 1.41.59.51 0 1.02-.2 1.41-.59l7.78-7.78 2.81-2.81c.8-.78.8-2.07 0-2.86zM5.41 20L4 18.59l7.72-7.72 1.47 1.35L5.41 20z\"/>\n",
              "  </svg>\n",
              "      </button>\n",
              "      \n",
              "  <style>\n",
              "    .colab-df-container {\n",
              "      display:flex;\n",
              "      flex-wrap:wrap;\n",
              "      gap: 12px;\n",
              "    }\n",
              "\n",
              "    .colab-df-convert {\n",
              "      background-color: #E8F0FE;\n",
              "      border: none;\n",
              "      border-radius: 50%;\n",
              "      cursor: pointer;\n",
              "      display: none;\n",
              "      fill: #1967D2;\n",
              "      height: 32px;\n",
              "      padding: 0 0 0 0;\n",
              "      width: 32px;\n",
              "    }\n",
              "\n",
              "    .colab-df-convert:hover {\n",
              "      background-color: #E2EBFA;\n",
              "      box-shadow: 0px 1px 2px rgba(60, 64, 67, 0.3), 0px 1px 3px 1px rgba(60, 64, 67, 0.15);\n",
              "      fill: #174EA6;\n",
              "    }\n",
              "\n",
              "    [theme=dark] .colab-df-convert {\n",
              "      background-color: #3B4455;\n",
              "      fill: #D2E3FC;\n",
              "    }\n",
              "\n",
              "    [theme=dark] .colab-df-convert:hover {\n",
              "      background-color: #434B5C;\n",
              "      box-shadow: 0px 1px 3px 1px rgba(0, 0, 0, 0.15);\n",
              "      filter: drop-shadow(0px 1px 2px rgba(0, 0, 0, 0.3));\n",
              "      fill: #FFFFFF;\n",
              "    }\n",
              "  </style>\n",
              "\n",
              "      <script>\n",
              "        const buttonEl =\n",
              "          document.querySelector('#df-94ccdc80-b94e-4a0c-833f-dbae6ad49645 button.colab-df-convert');\n",
              "        buttonEl.style.display =\n",
              "          google.colab.kernel.accessAllowed ? 'block' : 'none';\n",
              "\n",
              "        async function convertToInteractive(key) {\n",
              "          const element = document.querySelector('#df-94ccdc80-b94e-4a0c-833f-dbae6ad49645');\n",
              "          const dataTable =\n",
              "            await google.colab.kernel.invokeFunction('convertToInteractive',\n",
              "                                                     [key], {});\n",
              "          if (!dataTable) return;\n",
              "\n",
              "          const docLinkHtml = 'Like what you see? Visit the ' +\n",
              "            '<a target=\"_blank\" href=https://colab.research.google.com/notebooks/data_table.ipynb>data table notebook</a>'\n",
              "            + ' to learn more about interactive tables.';\n",
              "          element.innerHTML = '';\n",
              "          dataTable['output_type'] = 'display_data';\n",
              "          await google.colab.output.renderOutput(dataTable, element);\n",
              "          const docLink = document.createElement('div');\n",
              "          docLink.innerHTML = docLinkHtml;\n",
              "          element.appendChild(docLink);\n",
              "        }\n",
              "      </script>\n",
              "    </div>\n",
              "  </div>\n",
              "  "
            ]
          },
          "metadata": {},
          "execution_count": 18
        }
      ]
    },
    {
      "cell_type": "code",
      "source": [
        "gender.replace('Female voters', 'Female', inplace=True)\n",
        "gender.replace('Male voters', 'Male', inplace=True)\n",
        "gender"
      ],
      "metadata": {
        "colab": {
          "base_uri": "https://localhost:8080/",
          "height": 363
        },
        "id": "OKg9G0ITsMof",
        "outputId": "44f586ed-5ead-4976-c569-bfef9966a7ff"
      },
      "execution_count": null,
      "outputs": [
        {
          "output_type": "execute_result",
          "data": {
            "text/plain": [
              "   Segment Description     Answer  Count\n",
              "10              Female   Facebook    222\n",
              "11              Female  Instagram    535\n",
              "12              Female   Snapchat     29\n",
              "13              Female    Twitter     57\n",
              "14              Female       None    271\n",
              "15                Male   Facebook    326\n",
              "16                Male  Instagram    380\n",
              "17                Male   Snapchat     56\n",
              "18                Male    Twitter    122\n",
              "19                Male       None    678"
            ],
            "text/html": [
              "\n",
              "  <div id=\"df-e9bd4af9-aa0f-4208-92d3-60ff140e6073\">\n",
              "    <div class=\"colab-df-container\">\n",
              "      <div>\n",
              "<style scoped>\n",
              "    .dataframe tbody tr th:only-of-type {\n",
              "        vertical-align: middle;\n",
              "    }\n",
              "\n",
              "    .dataframe tbody tr th {\n",
              "        vertical-align: top;\n",
              "    }\n",
              "\n",
              "    .dataframe thead th {\n",
              "        text-align: right;\n",
              "    }\n",
              "</style>\n",
              "<table border=\"1\" class=\"dataframe\">\n",
              "  <thead>\n",
              "    <tr style=\"text-align: right;\">\n",
              "      <th></th>\n",
              "      <th>Segment Description</th>\n",
              "      <th>Answer</th>\n",
              "      <th>Count</th>\n",
              "    </tr>\n",
              "  </thead>\n",
              "  <tbody>\n",
              "    <tr>\n",
              "      <th>10</th>\n",
              "      <td>Female</td>\n",
              "      <td>Facebook</td>\n",
              "      <td>222</td>\n",
              "    </tr>\n",
              "    <tr>\n",
              "      <th>11</th>\n",
              "      <td>Female</td>\n",
              "      <td>Instagram</td>\n",
              "      <td>535</td>\n",
              "    </tr>\n",
              "    <tr>\n",
              "      <th>12</th>\n",
              "      <td>Female</td>\n",
              "      <td>Snapchat</td>\n",
              "      <td>29</td>\n",
              "    </tr>\n",
              "    <tr>\n",
              "      <th>13</th>\n",
              "      <td>Female</td>\n",
              "      <td>Twitter</td>\n",
              "      <td>57</td>\n",
              "    </tr>\n",
              "    <tr>\n",
              "      <th>14</th>\n",
              "      <td>Female</td>\n",
              "      <td>None</td>\n",
              "      <td>271</td>\n",
              "    </tr>\n",
              "    <tr>\n",
              "      <th>15</th>\n",
              "      <td>Male</td>\n",
              "      <td>Facebook</td>\n",
              "      <td>326</td>\n",
              "    </tr>\n",
              "    <tr>\n",
              "      <th>16</th>\n",
              "      <td>Male</td>\n",
              "      <td>Instagram</td>\n",
              "      <td>380</td>\n",
              "    </tr>\n",
              "    <tr>\n",
              "      <th>17</th>\n",
              "      <td>Male</td>\n",
              "      <td>Snapchat</td>\n",
              "      <td>56</td>\n",
              "    </tr>\n",
              "    <tr>\n",
              "      <th>18</th>\n",
              "      <td>Male</td>\n",
              "      <td>Twitter</td>\n",
              "      <td>122</td>\n",
              "    </tr>\n",
              "    <tr>\n",
              "      <th>19</th>\n",
              "      <td>Male</td>\n",
              "      <td>None</td>\n",
              "      <td>678</td>\n",
              "    </tr>\n",
              "  </tbody>\n",
              "</table>\n",
              "</div>\n",
              "      <button class=\"colab-df-convert\" onclick=\"convertToInteractive('df-e9bd4af9-aa0f-4208-92d3-60ff140e6073')\"\n",
              "              title=\"Convert this dataframe to an interactive table.\"\n",
              "              style=\"display:none;\">\n",
              "        \n",
              "  <svg xmlns=\"http://www.w3.org/2000/svg\" height=\"24px\"viewBox=\"0 0 24 24\"\n",
              "       width=\"24px\">\n",
              "    <path d=\"M0 0h24v24H0V0z\" fill=\"none\"/>\n",
              "    <path d=\"M18.56 5.44l.94 2.06.94-2.06 2.06-.94-2.06-.94-.94-2.06-.94 2.06-2.06.94zm-11 1L8.5 8.5l.94-2.06 2.06-.94-2.06-.94L8.5 2.5l-.94 2.06-2.06.94zm10 10l.94 2.06.94-2.06 2.06-.94-2.06-.94-.94-2.06-.94 2.06-2.06.94z\"/><path d=\"M17.41 7.96l-1.37-1.37c-.4-.4-.92-.59-1.43-.59-.52 0-1.04.2-1.43.59L10.3 9.45l-7.72 7.72c-.78.78-.78 2.05 0 2.83L4 21.41c.39.39.9.59 1.41.59.51 0 1.02-.2 1.41-.59l7.78-7.78 2.81-2.81c.8-.78.8-2.07 0-2.86zM5.41 20L4 18.59l7.72-7.72 1.47 1.35L5.41 20z\"/>\n",
              "  </svg>\n",
              "      </button>\n",
              "      \n",
              "  <style>\n",
              "    .colab-df-container {\n",
              "      display:flex;\n",
              "      flex-wrap:wrap;\n",
              "      gap: 12px;\n",
              "    }\n",
              "\n",
              "    .colab-df-convert {\n",
              "      background-color: #E8F0FE;\n",
              "      border: none;\n",
              "      border-radius: 50%;\n",
              "      cursor: pointer;\n",
              "      display: none;\n",
              "      fill: #1967D2;\n",
              "      height: 32px;\n",
              "      padding: 0 0 0 0;\n",
              "      width: 32px;\n",
              "    }\n",
              "\n",
              "    .colab-df-convert:hover {\n",
              "      background-color: #E2EBFA;\n",
              "      box-shadow: 0px 1px 2px rgba(60, 64, 67, 0.3), 0px 1px 3px 1px rgba(60, 64, 67, 0.15);\n",
              "      fill: #174EA6;\n",
              "    }\n",
              "\n",
              "    [theme=dark] .colab-df-convert {\n",
              "      background-color: #3B4455;\n",
              "      fill: #D2E3FC;\n",
              "    }\n",
              "\n",
              "    [theme=dark] .colab-df-convert:hover {\n",
              "      background-color: #434B5C;\n",
              "      box-shadow: 0px 1px 3px 1px rgba(0, 0, 0, 0.15);\n",
              "      filter: drop-shadow(0px 1px 2px rgba(0, 0, 0, 0.3));\n",
              "      fill: #FFFFFF;\n",
              "    }\n",
              "  </style>\n",
              "\n",
              "      <script>\n",
              "        const buttonEl =\n",
              "          document.querySelector('#df-e9bd4af9-aa0f-4208-92d3-60ff140e6073 button.colab-df-convert');\n",
              "        buttonEl.style.display =\n",
              "          google.colab.kernel.accessAllowed ? 'block' : 'none';\n",
              "\n",
              "        async function convertToInteractive(key) {\n",
              "          const element = document.querySelector('#df-e9bd4af9-aa0f-4208-92d3-60ff140e6073');\n",
              "          const dataTable =\n",
              "            await google.colab.kernel.invokeFunction('convertToInteractive',\n",
              "                                                     [key], {});\n",
              "          if (!dataTable) return;\n",
              "\n",
              "          const docLinkHtml = 'Like what you see? Visit the ' +\n",
              "            '<a target=\"_blank\" href=https://colab.research.google.com/notebooks/data_table.ipynb>data table notebook</a>'\n",
              "            + ' to learn more about interactive tables.';\n",
              "          element.innerHTML = '';\n",
              "          dataTable['output_type'] = 'display_data';\n",
              "          await google.colab.output.renderOutput(dataTable, element);\n",
              "          const docLink = document.createElement('div');\n",
              "          docLink.innerHTML = docLinkHtml;\n",
              "          element.appendChild(docLink);\n",
              "        }\n",
              "      </script>\n",
              "    </div>\n",
              "  </div>\n",
              "  "
            ]
          },
          "metadata": {},
          "execution_count": 48
        }
      ]
    },
    {
      "cell_type": "code",
      "source": [
        "gender.set_index(['Segment Description', 'Answer']).unstack(level='Answer').droplevel(None, axis=1).plot.bar(color=['royalblue',\n",
        "                                                                                                                      'hotpink',\n",
        "                                                                                                                      'grey',\n",
        "                                                                                                                      'yellow',\n",
        "                                                                                                                      'lightblue']);\n",
        "plt.title(\"Most Influential Social Media Platform Based On Gender\");\n",
        "plt.ylabel(\"People\");\n",
        "plt.xlabel(\"Gender\");\n",
        "plt.xticks(rotation='horizontal');\n",
        "plt.legend(loc='upper center');"
      ],
      "metadata": {
        "colab": {
          "base_uri": "https://localhost:8080/",
          "height": 472
        },
        "id": "SHdXz0KRk2CG",
        "outputId": "5cc41cd5-1cf5-49bf-cb88-7040f9a57962"
      },
      "execution_count": null,
      "outputs": [
        {
          "output_type": "display_data",
          "data": {
            "text/plain": [
              "<Figure size 640x480 with 1 Axes>"
            ],
            "image/png": "[encoded data removed]"
          },
          "metadata": {}
        }
      ]
    },
    {
      "cell_type": "markdown",
      "source": [
        "### Custom Segment"
      ],
      "metadata": {
        "id": "CDnI2jElLXOd"
      }
    },
    {
      "cell_type": "code",
      "source": [
        "np.sort(df_social[df_social['Segment Type'] == 'Custom']['Segment Description'].unique())"
      ],
      "metadata": {
        "colab": {
          "base_uri": "https://localhost:8080/"
        },
        "id": "V58eiakhLjO2",
        "outputId": "6955c50c-c7c3-4ed6-9657-13103238a779"
      },
      "execution_count": null,
      "outputs": [
        {
          "output_type": "execute_result",
          "data": {
            "text/plain": [
              "array(['Are you a? SVB team member', 'Are you a? Student Trekker',\n",
              "       'Are you single? No', 'Are you single? Yes', 'Are you? Christian',\n",
              "       'Are you? Jewish', 'Are you? Muslim', 'Are you? None/Other',\n",
              "       'Graduation Year 2017', 'Graduation Year 2018',\n",
              "       'Graduation Year 2019', 'Graduation Year 2020', \"I'm in? College\",\n",
              "       \"I'm in? Grad School\", \"I'm in? High School\", \"I'm in? Other\",\n",
              "       \"I'm in? Post-grad\", 'Mac or PC? Mac 🖥', 'Mac or PC? Other 🐧',\n",
              "       'Mac or PC? PC 💻', 'Sexual orientation? Bi',\n",
              "       'Sexual orientation? Confused', 'Sexual orientation? Gay',\n",
              "       'Sexual orientation? Straight', \"What's your GPA? 1.0 to 2.0\",\n",
              "       \"What's your GPA? 2.0 to 3.0\", \"What's your GPA? 3.0 to 4.0\",\n",
              "       \"What's your GPA? Above 4.0 😏\", \"What's your GPA? Below 1.0 😁\",\n",
              "       \"What's your leaning? Conservative 🐘\",\n",
              "       \"What's your leaning? In-between\",\n",
              "       \"What's your leaning? Liberal 🔷\",\n",
              "       \"What's your major? Business/Econ/Finance\",\n",
              "       \"What's your major? Comm / marketing\",\n",
              "       \"What's your major? Comp sci\", \"What's your major? History\",\n",
              "       \"What's your major? Languages\",\n",
              "       \"What's your major? ME/EE/other engineer\",\n",
              "       \"What's your major? Other\",\n",
              "       \"What's your major? Political science / philosophy\",\n",
              "       \"What's your major? Pre-med\",\n",
              "       \"What's your major? Visual/performing arts\",\n",
              "       'are you pursuing? Humanities',\n",
              "       'are you pursuing? Technical / engineering',\n",
              "       'are you pursuing? Undecided', 'closely identify as? Asian',\n",
              "       'closely identify as? Black', 'closely identify as? Hispanic',\n",
              "       'closely identify as? Native American',\n",
              "       'closely identify as? Other', 'closely identify as? White',\n",
              "       'clubs / organizations? A major one',\n",
              "       'clubs / organizations? A minor one',\n",
              "       'clubs / organizations? More than one major org',\n",
              "       'clubs / organizations? No', 'do per month? 1 to 10 hours',\n",
              "       'do per month? About 1 hour', 'do per month? Less than an hour',\n",
              "       'do per month? More than 10 hours 😇',\n",
              "       'do per month? Realistically, none', 'games a lot? No',\n",
              "       'games a lot? Yes, PC mostly', 'games a lot? Yes, console mostly',\n",
              "       'games a lot? Yes, mobile mostly', 'grow up speaking? Both',\n",
              "       'grow up speaking? English',\n",
              "       'grow up speaking? Some other language (comment)',\n",
              "       'grow up speaking? Spanish',\n",
              "       'guys, 5\\'5\" girls) Medium (± 3 inches)',\n",
              "       'guys, 5\\'5\" girls) Short', 'guys, 5\\'5\" girls) Tall',\n",
              "       \"have a job? No, but I'm searching for one\",\n",
              "       'have a job? Nope, and not looking for one',\n",
              "       'have a job? Yes, full-time', 'have a job? Yes, part-time',\n",
              "       'in Greek life? No but I wanna be...', 'in Greek life? No!',\n",
              "       'in Greek life? Yes but regretting it', 'in Greek life? Yes!',\n",
              "       'or private school? No school', 'or private school? Private',\n",
              "       'or private school? Public', 'student loan debt? No',\n",
              "       'student loan debt? Yes', 'you a feminist? No',\n",
              "       'you a feminist? Yes', 'you a virgin? No', 'you a virgin? Yes',\n",
              "       \"you vote for? Didn't vote\", 'you vote for? Donald Trump',\n",
              "       'you vote for? Gary Johnson', 'you vote for? Hillary Clinton',\n",
              "       'you vote for? Jill Stein', 'you vote for? Other',\n",
              "       'you vote for? Writing in Bernie',\n",
              "       'your parents make? Middle / lower-middle class (~$90K)',\n",
              "       'your parents make? Poor (< ~$50K) 😁',\n",
              "       'your parents make? Upper class (> $240K)',\n",
              "       'your parents make? Upper-middle class (~$160K',\n",
              "       'your zodiac sign? Aquarius (Jan 20-Feb 18)',\n",
              "       'your zodiac sign? Aries (Mar 21 - Apr 19)',\n",
              "       'your zodiac sign? Cancer (Jun 21 - Jul 22)',\n",
              "       'your zodiac sign? Capricorn (Dec 22 - Jan 19)',\n",
              "       'your zodiac sign? Gemini (May 21 - Jun 20)',\n",
              "       'your zodiac sign? Leo (Jul 23 - Aug 22)',\n",
              "       'your zodiac sign? Libra (Sep 23 - Oct 22)',\n",
              "       'your zodiac sign? Pisces (Feb 19 - Mar 20)',\n",
              "       'your zodiac sign? Sagittarius (Nov 22 - Dec 21)',\n",
              "       'your zodiac sign? Scorpio (Oct 23 - Nov 21)',\n",
              "       'your zodiac sign? Taurus (Apr 20 - May 20)',\n",
              "       'your zodiac sign? Virgo (Aug 23 - Sep 22)'], dtype=object)"
            ]
          },
          "metadata": {},
          "execution_count": 20
        }
      ]
    },
    {
      "cell_type": "code",
      "source": [
        "# Parent income\n",
        "parent_income = df_social[df_social['Segment Description'].isin(['your parents make? Middle / lower-middle class (~$90K)',\n",
        "                                                                 'your parents make? Poor (< ~$50K) 😁',\n",
        "                                                                 'your parents make? Upper class (> $240K)',\n",
        "                                                                 'your parents make? Upper-middle class (~$160K'])].iloc[:,1:-1]\n",
        "parent_income"
      ],
      "metadata": {
        "colab": {
          "base_uri": "https://localhost:8080/",
          "height": 677
        },
        "id": "GxRc7EefSPyx",
        "outputId": "c744ffc8-dc70-4f33-de87-82cc39da96a6"
      },
      "execution_count": null,
      "outputs": [
        {
          "output_type": "execute_result",
          "data": {
            "text/plain": [
              "                                   Segment Description     Answer  Count\n",
              "915           your parents make? Upper class (> $240K)   Facebook     70\n",
              "916           your parents make? Upper class (> $240K)  Instagram     83\n",
              "917           your parents make? Upper class (> $240K)   Snapchat      8\n",
              "918           your parents make? Upper class (> $240K)    Twitter     13\n",
              "919           your parents make? Upper class (> $240K)       None    130\n",
              "920      your parents make? Upper-middle class (~$160K   Facebook     71\n",
              "921      your parents make? Upper-middle class (~$160K  Instagram    149\n",
              "922      your parents make? Upper-middle class (~$160K   Snapchat     11\n",
              "923      your parents make? Upper-middle class (~$160K    Twitter     42\n",
              "924      your parents make? Upper-middle class (~$160K       None    178\n",
              "925  your parents make? Middle / lower-middle class...   Facebook     41\n",
              "926  your parents make? Middle / lower-middle class...  Instagram    111\n",
              "927  your parents make? Middle / lower-middle class...   Snapchat     12\n",
              "928  your parents make? Middle / lower-middle class...    Twitter     32\n",
              "929  your parents make? Middle / lower-middle class...       None    144\n",
              "930                your parents make? Poor (< ~$50K) 😁   Facebook     15\n",
              "931                your parents make? Poor (< ~$50K) 😁  Instagram     45\n",
              "932                your parents make? Poor (< ~$50K) 😁   Snapchat      7\n",
              "933                your parents make? Poor (< ~$50K) 😁    Twitter     10\n",
              "934                your parents make? Poor (< ~$50K) 😁       None     57"
            ],
            "text/html": [
              "\n",
              "  <div id=\"df-7b2dfdbc-402f-422c-adbf-776597baca1f\">\n",
              "    <div class=\"colab-df-container\">\n",
              "      <div>\n",
              "<style scoped>\n",
              "    .dataframe tbody tr th:only-of-type {\n",
              "        vertical-align: middle;\n",
              "    }\n",
              "\n",
              "    .dataframe tbody tr th {\n",
              "        vertical-align: top;\n",
              "    }\n",
              "\n",
              "    .dataframe thead th {\n",
              "        text-align: right;\n",
              "    }\n",
              "</style>\n",
              "<table border=\"1\" class=\"dataframe\">\n",
              "  <thead>\n",
              "    <tr style=\"text-align: right;\">\n",
              "      <th></th>\n",
              "      <th>Segment Description</th>\n",
              "      <th>Answer</th>\n",
              "      <th>Count</th>\n",
              "    </tr>\n",
              "  </thead>\n",
              "  <tbody>\n",
              "    <tr>\n",
              "      <th>915</th>\n",
              "      <td>your parents make? Upper class (&gt; $240K)</td>\n",
              "      <td>Facebook</td>\n",
              "      <td>70</td>\n",
              "    </tr>\n",
              "    <tr>\n",
              "      <th>916</th>\n",
              "      <td>your parents make? Upper class (&gt; $240K)</td>\n",
              "      <td>Instagram</td>\n",
              "      <td>83</td>\n",
              "    </tr>\n",
              "    <tr>\n",
              "      <th>917</th>\n",
              "      <td>your parents make? Upper class (&gt; $240K)</td>\n",
              "      <td>Snapchat</td>\n",
              "      <td>8</td>\n",
              "    </tr>\n",
              "    <tr>\n",
              "      <th>918</th>\n",
              "      <td>your parents make? Upper class (&gt; $240K)</td>\n",
              "      <td>Twitter</td>\n",
              "      <td>13</td>\n",
              "    </tr>\n",
              "    <tr>\n",
              "      <th>919</th>\n",
              "      <td>your parents make? Upper class (&gt; $240K)</td>\n",
              "      <td>None</td>\n",
              "      <td>130</td>\n",
              "    </tr>\n",
              "    <tr>\n",
              "      <th>920</th>\n",
              "      <td>your parents make? Upper-middle class (~$160K</td>\n",
              "      <td>Facebook</td>\n",
              "      <td>71</td>\n",
              "    </tr>\n",
              "    <tr>\n",
              "      <th>921</th>\n",
              "      <td>your parents make? Upper-middle class (~$160K</td>\n",
              "      <td>Instagram</td>\n",
              "      <td>149</td>\n",
              "    </tr>\n",
              "    <tr>\n",
              "      <th>922</th>\n",
              "      <td>your parents make? Upper-middle class (~$160K</td>\n",
              "      <td>Snapchat</td>\n",
              "      <td>11</td>\n",
              "    </tr>\n",
              "    <tr>\n",
              "      <th>923</th>\n",
              "      <td>your parents make? Upper-middle class (~$160K</td>\n",
              "      <td>Twitter</td>\n",
              "      <td>42</td>\n",
              "    </tr>\n",
              "    <tr>\n",
              "      <th>924</th>\n",
              "      <td>your parents make? Upper-middle class (~$160K</td>\n",
              "      <td>None</td>\n",
              "      <td>178</td>\n",
              "    </tr>\n",
              "    <tr>\n",
              "      <th>925</th>\n",
              "      <td>your parents make? Middle / lower-middle class...</td>\n",
              "      <td>Facebook</td>\n",
              "      <td>41</td>\n",
              "    </tr>\n",
              "    <tr>\n",
              "      <th>926</th>\n",
              "      <td>your parents make? Middle / lower-middle class...</td>\n",
              "      <td>Instagram</td>\n",
              "      <td>111</td>\n",
              "    </tr>\n",
              "    <tr>\n",
              "      <th>927</th>\n",
              "      <td>your parents make? Middle / lower-middle class...</td>\n",
              "      <td>Snapchat</td>\n",
              "      <td>12</td>\n",
              "    </tr>\n",
              "    <tr>\n",
              "      <th>928</th>\n",
              "      <td>your parents make? Middle / lower-middle class...</td>\n",
              "      <td>Twitter</td>\n",
              "      <td>32</td>\n",
              "    </tr>\n",
              "    <tr>\n",
              "      <th>929</th>\n",
              "      <td>your parents make? Middle / lower-middle class...</td>\n",
              "      <td>None</td>\n",
              "      <td>144</td>\n",
              "    </tr>\n",
              "    <tr>\n",
              "      <th>930</th>\n",
              "      <td>your parents make? Poor (&lt; ~$50K) 😁</td>\n",
              "      <td>Facebook</td>\n",
              "      <td>15</td>\n",
              "    </tr>\n",
              "    <tr>\n",
              "      <th>931</th>\n",
              "      <td>your parents make? Poor (&lt; ~$50K) 😁</td>\n",
              "      <td>Instagram</td>\n",
              "      <td>45</td>\n",
              "    </tr>\n",
              "    <tr>\n",
              "      <th>932</th>\n",
              "      <td>your parents make? Poor (&lt; ~$50K) 😁</td>\n",
              "      <td>Snapchat</td>\n",
              "      <td>7</td>\n",
              "    </tr>\n",
              "    <tr>\n",
              "      <th>933</th>\n",
              "      <td>your parents make? Poor (&lt; ~$50K) 😁</td>\n",
              "      <td>Twitter</td>\n",
              "      <td>10</td>\n",
              "    </tr>\n",
              "    <tr>\n",
              "      <th>934</th>\n",
              "      <td>your parents make? Poor (&lt; ~$50K) 😁</td>\n",
              "      <td>None</td>\n",
              "      <td>57</td>\n",
              "    </tr>\n",
              "  </tbody>\n",
              "</table>\n",
              "</div>\n",
              "      <button class=\"colab-df-convert\" onclick=\"convertToInteractive('df-7b2dfdbc-402f-422c-adbf-776597baca1f')\"\n",
              "              title=\"Convert this dataframe to an interactive table.\"\n",
              "              style=\"display:none;\">\n",
              "        \n",
              "  <svg xmlns=\"http://www.w3.org/2000/svg\" height=\"24px\"viewBox=\"0 0 24 24\"\n",
              "       width=\"24px\">\n",
              "    <path d=\"M0 0h24v24H0V0z\" fill=\"none\"/>\n",
              "    <path d=\"M18.56 5.44l.94 2.06.94-2.06 2.06-.94-2.06-.94-.94-2.06-.94 2.06-2.06.94zm-11 1L8.5 8.5l.94-2.06 2.06-.94-2.06-.94L8.5 2.5l-.94 2.06-2.06.94zm10 10l.94 2.06.94-2.06 2.06-.94-2.06-.94-.94-2.06-.94 2.06-2.06.94z\"/><path d=\"M17.41 7.96l-1.37-1.37c-.4-.4-.92-.59-1.43-.59-.52 0-1.04.2-1.43.59L10.3 9.45l-7.72 7.72c-.78.78-.78 2.05 0 2.83L4 21.41c.39.39.9.59 1.41.59.51 0 1.02-.2 1.41-.59l7.78-7.78 2.81-2.81c.8-.78.8-2.07 0-2.86zM5.41 20L4 18.59l7.72-7.72 1.47 1.35L5.41 20z\"/>\n",
              "  </svg>\n",
              "      </button>\n",
              "      \n",
              "  <style>\n",
              "    .colab-df-container {\n",
              "      display:flex;\n",
              "      flex-wrap:wrap;\n",
              "      gap: 12px;\n",
              "    }\n",
              "\n",
              "    .colab-df-convert {\n",
              "      background-color: #E8F0FE;\n",
              "      border: none;\n",
              "      border-radius: 50%;\n",
              "      cursor: pointer;\n",
              "      display: none;\n",
              "      fill: #1967D2;\n",
              "      height: 32px;\n",
              "      padding: 0 0 0 0;\n",
              "      width: 32px;\n",
              "    }\n",
              "\n",
              "    .colab-df-convert:hover {\n",
              "      background-color: #E2EBFA;\n",
              "      box-shadow: 0px 1px 2px rgba(60, 64, 67, 0.3), 0px 1px 3px 1px rgba(60, 64, 67, 0.15);\n",
              "      fill: #174EA6;\n",
              "    }\n",
              "\n",
              "    [theme=dark] .colab-df-convert {\n",
              "      background-color: #3B4455;\n",
              "      fill: #D2E3FC;\n",
              "    }\n",
              "\n",
              "    [theme=dark] .colab-df-convert:hover {\n",
              "      background-color: #434B5C;\n",
              "      box-shadow: 0px 1px 3px 1px rgba(0, 0, 0, 0.15);\n",
              "      filter: drop-shadow(0px 1px 2px rgba(0, 0, 0, 0.3));\n",
              "      fill: #FFFFFF;\n",
              "    }\n",
              "  </style>\n",
              "\n",
              "      <script>\n",
              "        const buttonEl =\n",
              "          document.querySelector('#df-7b2dfdbc-402f-422c-adbf-776597baca1f button.colab-df-convert');\n",
              "        buttonEl.style.display =\n",
              "          google.colab.kernel.accessAllowed ? 'block' : 'none';\n",
              "\n",
              "        async function convertToInteractive(key) {\n",
              "          const element = document.querySelector('#df-7b2dfdbc-402f-422c-adbf-776597baca1f');\n",
              "          const dataTable =\n",
              "            await google.colab.kernel.invokeFunction('convertToInteractive',\n",
              "                                                     [key], {});\n",
              "          if (!dataTable) return;\n",
              "\n",
              "          const docLinkHtml = 'Like what you see? Visit the ' +\n",
              "            '<a target=\"_blank\" href=https://colab.research.google.com/notebooks/data_table.ipynb>data table notebook</a>'\n",
              "            + ' to learn more about interactive tables.';\n",
              "          element.innerHTML = '';\n",
              "          dataTable['output_type'] = 'display_data';\n",
              "          await google.colab.output.renderOutput(dataTable, element);\n",
              "          const docLink = document.createElement('div');\n",
              "          docLink.innerHTML = docLinkHtml;\n",
              "          element.appendChild(docLink);\n",
              "        }\n",
              "      </script>\n",
              "    </div>\n",
              "  </div>\n",
              "  "
            ]
          },
          "metadata": {},
          "execution_count": 21
        }
      ]
    },
    {
      "cell_type": "code",
      "source": [
        "parent_income.replace('your parents make? Poor (< ~$50K) 😁', 'Poor', inplace=True)\n",
        "parent_income.replace('your parents make? Middle / lower-middle class (~$90K)', 'Lower-middle', inplace=True)\n",
        "parent_income.replace('your parents make? Upper-middle class (~$160K', 'Upper-middle', inplace=True)\n",
        "parent_income.replace('your parents make? Upper class (> $240K)', 'Rich', inplace=True)"
      ],
      "metadata": {
        "id": "IJcUjqUuSQDK"
      },
      "execution_count": null,
      "outputs": []
    },
    {
      "cell_type": "code",
      "source": [
        "parent_income"
      ],
      "metadata": {
        "colab": {
          "base_uri": "https://localhost:8080/",
          "height": 677
        },
        "id": "3S1oBALsSQK2",
        "outputId": "91af673d-0f42-4666-ed05-964e3966bdf7"
      },
      "execution_count": null,
      "outputs": [
        {
          "output_type": "execute_result",
          "data": {
            "text/plain": [
              "    Segment Description     Answer  Count\n",
              "915                Rich   Facebook     70\n",
              "916                Rich  Instagram     83\n",
              "917                Rich   Snapchat      8\n",
              "918                Rich    Twitter     13\n",
              "919                Rich       None    130\n",
              "920        Upper-middle   Facebook     71\n",
              "921        Upper-middle  Instagram    149\n",
              "922        Upper-middle   Snapchat     11\n",
              "923        Upper-middle    Twitter     42\n",
              "924        Upper-middle       None    178\n",
              "925        Lower-middle   Facebook     41\n",
              "926        Lower-middle  Instagram    111\n",
              "927        Lower-middle   Snapchat     12\n",
              "928        Lower-middle    Twitter     32\n",
              "929        Lower-middle       None    144\n",
              "930                Poor   Facebook     15\n",
              "931                Poor  Instagram     45\n",
              "932                Poor   Snapchat      7\n",
              "933                Poor    Twitter     10\n",
              "934                Poor       None     57"
            ],
            "text/html": [
              "\n",
              "  <div id=\"df-4c44c138-30a7-4fa3-be7b-eb91b33c8589\">\n",
              "    <div class=\"colab-df-container\">\n",
              "      <div>\n",
              "<style scoped>\n",
              "    .dataframe tbody tr th:only-of-type {\n",
              "        vertical-align: middle;\n",
              "    }\n",
              "\n",
              "    .dataframe tbody tr th {\n",
              "        vertical-align: top;\n",
              "    }\n",
              "\n",
              "    .dataframe thead th {\n",
              "        text-align: right;\n",
              "    }\n",
              "</style>\n",
              "<table border=\"1\" class=\"dataframe\">\n",
              "  <thead>\n",
              "    <tr style=\"text-align: right;\">\n",
              "      <th></th>\n",
              "      <th>Segment Description</th>\n",
              "      <th>Answer</th>\n",
              "      <th>Count</th>\n",
              "    </tr>\n",
              "  </thead>\n",
              "  <tbody>\n",
              "    <tr>\n",
              "      <th>915</th>\n",
              "      <td>Rich</td>\n",
              "      <td>Facebook</td>\n",
              "      <td>70</td>\n",
              "    </tr>\n",
              "    <tr>\n",
              "      <th>916</th>\n",
              "      <td>Rich</td>\n",
              "      <td>Instagram</td>\n",
              "      <td>83</td>\n",
              "    </tr>\n",
              "    <tr>\n",
              "      <th>917</th>\n",
              "      <td>Rich</td>\n",
              "      <td>Snapchat</td>\n",
              "      <td>8</td>\n",
              "    </tr>\n",
              "    <tr>\n",
              "      <th>918</th>\n",
              "      <td>Rich</td>\n",
              "      <td>Twitter</td>\n",
              "      <td>13</td>\n",
              "    </tr>\n",
              "    <tr>\n",
              "      <th>919</th>\n",
              "      <td>Rich</td>\n",
              "      <td>None</td>\n",
              "      <td>130</td>\n",
              "    </tr>\n",
              "    <tr>\n",
              "      <th>920</th>\n",
              "      <td>Upper-middle</td>\n",
              "      <td>Facebook</td>\n",
              "      <td>71</td>\n",
              "    </tr>\n",
              "    <tr>\n",
              "      <th>921</th>\n",
              "      <td>Upper-middle</td>\n",
              "      <td>Instagram</td>\n",
              "      <td>149</td>\n",
              "    </tr>\n",
              "    <tr>\n",
              "      <th>922</th>\n",
              "      <td>Upper-middle</td>\n",
              "      <td>Snapchat</td>\n",
              "      <td>11</td>\n",
              "    </tr>\n",
              "    <tr>\n",
              "      <th>923</th>\n",
              "      <td>Upper-middle</td>\n",
              "      <td>Twitter</td>\n",
              "      <td>42</td>\n",
              "    </tr>\n",
              "    <tr>\n",
              "      <th>924</th>\n",
              "      <td>Upper-middle</td>\n",
              "      <td>None</td>\n",
              "      <td>178</td>\n",
              "    </tr>\n",
              "    <tr>\n",
              "      <th>925</th>\n",
              "      <td>Lower-middle</td>\n",
              "      <td>Facebook</td>\n",
              "      <td>41</td>\n",
              "    </tr>\n",
              "    <tr>\n",
              "      <th>926</th>\n",
              "      <td>Lower-middle</td>\n",
              "      <td>Instagram</td>\n",
              "      <td>111</td>\n",
              "    </tr>\n",
              "    <tr>\n",
              "      <th>927</th>\n",
              "      <td>Lower-middle</td>\n",
              "      <td>Snapchat</td>\n",
              "      <td>12</td>\n",
              "    </tr>\n",
              "    <tr>\n",
              "      <th>928</th>\n",
              "      <td>Lower-middle</td>\n",
              "      <td>Twitter</td>\n",
              "      <td>32</td>\n",
              "    </tr>\n",
              "    <tr>\n",
              "      <th>929</th>\n",
              "      <td>Lower-middle</td>\n",
              "      <td>None</td>\n",
              "      <td>144</td>\n",
              "    </tr>\n",
              "    <tr>\n",
              "      <th>930</th>\n",
              "      <td>Poor</td>\n",
              "      <td>Facebook</td>\n",
              "      <td>15</td>\n",
              "    </tr>\n",
              "    <tr>\n",
              "      <th>931</th>\n",
              "      <td>Poor</td>\n",
              "      <td>Instagram</td>\n",
              "      <td>45</td>\n",
              "    </tr>\n",
              "    <tr>\n",
              "      <th>932</th>\n",
              "      <td>Poor</td>\n",
              "      <td>Snapchat</td>\n",
              "      <td>7</td>\n",
              "    </tr>\n",
              "    <tr>\n",
              "      <th>933</th>\n",
              "      <td>Poor</td>\n",
              "      <td>Twitter</td>\n",
              "      <td>10</td>\n",
              "    </tr>\n",
              "    <tr>\n",
              "      <th>934</th>\n",
              "      <td>Poor</td>\n",
              "      <td>None</td>\n",
              "      <td>57</td>\n",
              "    </tr>\n",
              "  </tbody>\n",
              "</table>\n",
              "</div>\n",
              "      <button class=\"colab-df-convert\" onclick=\"convertToInteractive('df-4c44c138-30a7-4fa3-be7b-eb91b33c8589')\"\n",
              "              title=\"Convert this dataframe to an interactive table.\"\n",
              "              style=\"display:none;\">\n",
              "        \n",
              "  <svg xmlns=\"http://www.w3.org/2000/svg\" height=\"24px\"viewBox=\"0 0 24 24\"\n",
              "       width=\"24px\">\n",
              "    <path d=\"M0 0h24v24H0V0z\" fill=\"none\"/>\n",
              "    <path d=\"M18.56 5.44l.94 2.06.94-2.06 2.06-.94-2.06-.94-.94-2.06-.94 2.06-2.06.94zm-11 1L8.5 8.5l.94-2.06 2.06-.94-2.06-.94L8.5 2.5l-.94 2.06-2.06.94zm10 10l.94 2.06.94-2.06 2.06-.94-2.06-.94-.94-2.06-.94 2.06-2.06.94z\"/><path d=\"M17.41 7.96l-1.37-1.37c-.4-.4-.92-.59-1.43-.59-.52 0-1.04.2-1.43.59L10.3 9.45l-7.72 7.72c-.78.78-.78 2.05 0 2.83L4 21.41c.39.39.9.59 1.41.59.51 0 1.02-.2 1.41-.59l7.78-7.78 2.81-2.81c.8-.78.8-2.07 0-2.86zM5.41 20L4 18.59l7.72-7.72 1.47 1.35L5.41 20z\"/>\n",
              "  </svg>\n",
              "      </button>\n",
              "      \n",
              "  <style>\n",
              "    .colab-df-container {\n",
              "      display:flex;\n",
              "      flex-wrap:wrap;\n",
              "      gap: 12px;\n",
              "    }\n",
              "\n",
              "    .colab-df-convert {\n",
              "      background-color: #E8F0FE;\n",
              "      border: none;\n",
              "      border-radius: 50%;\n",
              "      cursor: pointer;\n",
              "      display: none;\n",
              "      fill: #1967D2;\n",
              "      height: 32px;\n",
              "      padding: 0 0 0 0;\n",
              "      width: 32px;\n",
              "    }\n",
              "\n",
              "    .colab-df-convert:hover {\n",
              "      background-color: #E2EBFA;\n",
              "      box-shadow: 0px 1px 2px rgba(60, 64, 67, 0.3), 0px 1px 3px 1px rgba(60, 64, 67, 0.15);\n",
              "      fill: #174EA6;\n",
              "    }\n",
              "\n",
              "    [theme=dark] .colab-df-convert {\n",
              "      background-color: #3B4455;\n",
              "      fill: #D2E3FC;\n",
              "    }\n",
              "\n",
              "    [theme=dark] .colab-df-convert:hover {\n",
              "      background-color: #434B5C;\n",
              "      box-shadow: 0px 1px 3px 1px rgba(0, 0, 0, 0.15);\n",
              "      filter: drop-shadow(0px 1px 2px rgba(0, 0, 0, 0.3));\n",
              "      fill: #FFFFFF;\n",
              "    }\n",
              "  </style>\n",
              "\n",
              "      <script>\n",
              "        const buttonEl =\n",
              "          document.querySelector('#df-4c44c138-30a7-4fa3-be7b-eb91b33c8589 button.colab-df-convert');\n",
              "        buttonEl.style.display =\n",
              "          google.colab.kernel.accessAllowed ? 'block' : 'none';\n",
              "\n",
              "        async function convertToInteractive(key) {\n",
              "          const element = document.querySelector('#df-4c44c138-30a7-4fa3-be7b-eb91b33c8589');\n",
              "          const dataTable =\n",
              "            await google.colab.kernel.invokeFunction('convertToInteractive',\n",
              "                                                     [key], {});\n",
              "          if (!dataTable) return;\n",
              "\n",
              "          const docLinkHtml = 'Like what you see? Visit the ' +\n",
              "            '<a target=\"_blank\" href=https://colab.research.google.com/notebooks/data_table.ipynb>data table notebook</a>'\n",
              "            + ' to learn more about interactive tables.';\n",
              "          element.innerHTML = '';\n",
              "          dataTable['output_type'] = 'display_data';\n",
              "          await google.colab.output.renderOutput(dataTable, element);\n",
              "          const docLink = document.createElement('div');\n",
              "          docLink.innerHTML = docLinkHtml;\n",
              "          element.appendChild(docLink);\n",
              "        }\n",
              "      </script>\n",
              "    </div>\n",
              "  </div>\n",
              "  "
            ]
          },
          "metadata": {},
          "execution_count": 23
        }
      ]
    },
    {
      "cell_type": "code",
      "source": [
        "parent_income.set_index(['Segment Description', 'Answer']).unstack(level='Answer').droplevel(None, axis=1).reindex(['Poor',\n",
        "                                                                                                                    'Lower-middle',\n",
        "                                                                                                                    'Upper-middle',\n",
        "                                                                                                                    'Rich']).plot.barh(color=['royalblue',\n",
        "                                                                                                                                              'hotpink',\n",
        "                                                                                                                                              'grey',\n",
        "                                                                                                                                              'yellow',\n",
        "                                                                                                                                              'lightblue']);\n",
        "plt.title(\"Most Influential Social Media Platform Based On Parent Income\");\n",
        "plt.ylabel(\"Parent Income\");\n",
        "plt.xlabel(\"People\");\n",
        "plt.legend(loc='upper right');"
      ],
      "metadata": {
        "colab": {
          "base_uri": "https://localhost:8080/",
          "height": 472
        },
        "id": "OxEnFAFiSQTU",
        "outputId": "8ad76588-afa0-40e6-825f-275f2a7f65c0"
      },
      "execution_count": null,
      "outputs": [
        {
          "output_type": "display_data",
          "data": {
            "text/plain": [
              "<Figure size 640x480 with 1 Axes>"
            ],
            "image/png": "[encoded data removed]"
          },
          "metadata": {}
        }
      ]
    },
    {
      "cell_type": "code",
      "source": [
        "parent_income.set_index(['Segment Description', 'Answer']).unstack(level='Answer').droplevel(None, axis=1).reindex(['Poor',\n",
        "                                                                                                                    'Lower-middle',\n",
        "                                                                                                                    'Upper-middle',\n",
        "                                                                                                                    'Rich']).plot.barh(color=['royalblue',\n",
        "                                                                                                                                              'hotpink',\n",
        "                                                                                                                                              'grey',\n",
        "                                                                                                                                              'yellow',\n",
        "                                                                                                                                              'lightblue'],\n",
        "                                                                                                                                       stacked=True);\n",
        "plt.title(\"Most Influential Social Media Platform Based On Parent Income\");\n",
        "plt.ylabel(\"Parent Income\");\n",
        "plt.xlabel(\"People\");\n",
        "plt.legend(loc='lower right');"
      ],
      "metadata": {
        "colab": {
          "base_uri": "https://localhost:8080/",
          "height": 472
        },
        "id": "Bi21dfxHSQbj",
        "outputId": "d7266531-8a9d-4a4c-ffac-9a56c4c04975"
      },
      "execution_count": null,
      "outputs": [
        {
          "output_type": "display_data",
          "data": {
            "text/plain": [
              "<Figure size 640x480 with 1 Axes>"
            ],
            "image/png": "[encoded data removed]"
          },
          "metadata": {}
        }
      ]
    },
    {
      "cell_type": "code",
      "source": [
        "# Institution\n",
        "institution = df_social[df_social['Segment Description'].isin([\"I'm in? College\",\n",
        "                                                                 \"I'm in? Grad School\",\n",
        "                                                                 \"I'm in? High School\",\n",
        "                                                                 \"I'm in? Other\",\n",
        "                                                                 \"I'm in? Post-grad\"])].iloc[:,1:-1]\n",
        "institution"
      ],
      "metadata": {
        "colab": {
          "base_uri": "https://localhost:8080/",
          "height": 833
        },
        "id": "eumPmaMlZoF5",
        "outputId": "3ed163cd-91ee-417b-9a7d-6eadea167838"
      },
      "execution_count": null,
      "outputs": [
        {
          "output_type": "execute_result",
          "data": {
            "text/plain": [
              "      Segment Description     Answer  Count\n",
              "1190        I'm in? Other   Facebook      3\n",
              "1191        I'm in? Other  Instagram      6\n",
              "1192        I'm in? Other   Snapchat      2\n",
              "1193        I'm in? Other    Twitter      0\n",
              "1194        I'm in? Other       None      8\n",
              "1195  I'm in? Grad School   Facebook      7\n",
              "1196  I'm in? Grad School  Instagram     13\n",
              "1197  I'm in? Grad School   Snapchat      4\n",
              "1198  I'm in? Grad School    Twitter      3\n",
              "1199  I'm in? Grad School       None     14\n",
              "1365    I'm in? Post-grad   Facebook     15\n",
              "1366    I'm in? Post-grad  Instagram     35\n",
              "1367    I'm in? Post-grad   Snapchat      1\n",
              "1368    I'm in? Post-grad    Twitter      1\n",
              "1369    I'm in? Post-grad       None     43\n",
              "1385      I'm in? College   Facebook    499\n",
              "1386      I'm in? College  Instagram    781\n",
              "1387      I'm in? College   Snapchat     74\n",
              "1388      I'm in? College    Twitter    151\n",
              "1389      I'm in? College       None    820\n",
              "1390  I'm in? High School   Facebook     29\n",
              "1391  I'm in? High School  Instagram     96\n",
              "1392  I'm in? High School   Snapchat     14\n",
              "1393  I'm in? High School    Twitter     32\n",
              "1394  I'm in? High School       None    106"
            ],
            "text/html": [
              "\n",
              "  <div id=\"df-5d72dab8-88b5-4722-a1c0-9a6484a1b035\">\n",
              "    <div class=\"colab-df-container\">\n",
              "      <div>\n",
              "<style scoped>\n",
              "    .dataframe tbody tr th:only-of-type {\n",
              "        vertical-align: middle;\n",
              "    }\n",
              "\n",
              "    .dataframe tbody tr th {\n",
              "        vertical-align: top;\n",
              "    }\n",
              "\n",
              "    .dataframe thead th {\n",
              "        text-align: right;\n",
              "    }\n",
              "</style>\n",
              "<table border=\"1\" class=\"dataframe\">\n",
              "  <thead>\n",
              "    <tr style=\"text-align: right;\">\n",
              "      <th></th>\n",
              "      <th>Segment Description</th>\n",
              "      <th>Answer</th>\n",
              "      <th>Count</th>\n",
              "    </tr>\n",
              "  </thead>\n",
              "  <tbody>\n",
              "    <tr>\n",
              "      <th>1190</th>\n",
              "      <td>I'm in? Other</td>\n",
              "      <td>Facebook</td>\n",
              "      <td>3</td>\n",
              "    </tr>\n",
              "    <tr>\n",
              "      <th>1191</th>\n",
              "      <td>I'm in? Other</td>\n",
              "      <td>Instagram</td>\n",
              "      <td>6</td>\n",
              "    </tr>\n",
              "    <tr>\n",
              "      <th>1192</th>\n",
              "      <td>I'm in? Other</td>\n",
              "      <td>Snapchat</td>\n",
              "      <td>2</td>\n",
              "    </tr>\n",
              "    <tr>\n",
              "      <th>1193</th>\n",
              "      <td>I'm in? Other</td>\n",
              "      <td>Twitter</td>\n",
              "      <td>0</td>\n",
              "    </tr>\n",
              "    <tr>\n",
              "      <th>1194</th>\n",
              "      <td>I'm in? Other</td>\n",
              "      <td>None</td>\n",
              "      <td>8</td>\n",
              "    </tr>\n",
              "    <tr>\n",
              "      <th>1195</th>\n",
              "      <td>I'm in? Grad School</td>\n",
              "      <td>Facebook</td>\n",
              "      <td>7</td>\n",
              "    </tr>\n",
              "    <tr>\n",
              "      <th>1196</th>\n",
              "      <td>I'm in? Grad School</td>\n",
              "      <td>Instagram</td>\n",
              "      <td>13</td>\n",
              "    </tr>\n",
              "    <tr>\n",
              "      <th>1197</th>\n",
              "      <td>I'm in? Grad School</td>\n",
              "      <td>Snapchat</td>\n",
              "      <td>4</td>\n",
              "    </tr>\n",
              "    <tr>\n",
              "      <th>1198</th>\n",
              "      <td>I'm in? Grad School</td>\n",
              "      <td>Twitter</td>\n",
              "      <td>3</td>\n",
              "    </tr>\n",
              "    <tr>\n",
              "      <th>1199</th>\n",
              "      <td>I'm in? Grad School</td>\n",
              "      <td>None</td>\n",
              "      <td>14</td>\n",
              "    </tr>\n",
              "    <tr>\n",
              "      <th>1365</th>\n",
              "      <td>I'm in? Post-grad</td>\n",
              "      <td>Facebook</td>\n",
              "      <td>15</td>\n",
              "    </tr>\n",
              "    <tr>\n",
              "      <th>1366</th>\n",
              "      <td>I'm in? Post-grad</td>\n",
              "      <td>Instagram</td>\n",
              "      <td>35</td>\n",
              "    </tr>\n",
              "    <tr>\n",
              "      <th>1367</th>\n",
              "      <td>I'm in? Post-grad</td>\n",
              "      <td>Snapchat</td>\n",
              "      <td>1</td>\n",
              "    </tr>\n",
              "    <tr>\n",
              "      <th>1368</th>\n",
              "      <td>I'm in? Post-grad</td>\n",
              "      <td>Twitter</td>\n",
              "      <td>1</td>\n",
              "    </tr>\n",
              "    <tr>\n",
              "      <th>1369</th>\n",
              "      <td>I'm in? Post-grad</td>\n",
              "      <td>None</td>\n",
              "      <td>43</td>\n",
              "    </tr>\n",
              "    <tr>\n",
              "      <th>1385</th>\n",
              "      <td>I'm in? College</td>\n",
              "      <td>Facebook</td>\n",
              "      <td>499</td>\n",
              "    </tr>\n",
              "    <tr>\n",
              "      <th>1386</th>\n",
              "      <td>I'm in? College</td>\n",
              "      <td>Instagram</td>\n",
              "      <td>781</td>\n",
              "    </tr>\n",
              "    <tr>\n",
              "      <th>1387</th>\n",
              "      <td>I'm in? College</td>\n",
              "      <td>Snapchat</td>\n",
              "      <td>74</td>\n",
              "    </tr>\n",
              "    <tr>\n",
              "      <th>1388</th>\n",
              "      <td>I'm in? College</td>\n",
              "      <td>Twitter</td>\n",
              "      <td>151</td>\n",
              "    </tr>\n",
              "    <tr>\n",
              "      <th>1389</th>\n",
              "      <td>I'm in? College</td>\n",
              "      <td>None</td>\n",
              "      <td>820</td>\n",
              "    </tr>\n",
              "    <tr>\n",
              "      <th>1390</th>\n",
              "      <td>I'm in? High School</td>\n",
              "      <td>Facebook</td>\n",
              "      <td>29</td>\n",
              "    </tr>\n",
              "    <tr>\n",
              "      <th>1391</th>\n",
              "      <td>I'm in? High School</td>\n",
              "      <td>Instagram</td>\n",
              "      <td>96</td>\n",
              "    </tr>\n",
              "    <tr>\n",
              "      <th>1392</th>\n",
              "      <td>I'm in? High School</td>\n",
              "      <td>Snapchat</td>\n",
              "      <td>14</td>\n",
              "    </tr>\n",
              "    <tr>\n",
              "      <th>1393</th>\n",
              "      <td>I'm in? High School</td>\n",
              "      <td>Twitter</td>\n",
              "      <td>32</td>\n",
              "    </tr>\n",
              "    <tr>\n",
              "      <th>1394</th>\n",
              "      <td>I'm in? High School</td>\n",
              "      <td>None</td>\n",
              "      <td>106</td>\n",
              "    </tr>\n",
              "  </tbody>\n",
              "</table>\n",
              "</div>\n",
              "      <button class=\"colab-df-convert\" onclick=\"convertToInteractive('df-5d72dab8-88b5-4722-a1c0-9a6484a1b035')\"\n",
              "              title=\"Convert this dataframe to an interactive table.\"\n",
              "              style=\"display:none;\">\n",
              "        \n",
              "  <svg xmlns=\"http://www.w3.org/2000/svg\" height=\"24px\"viewBox=\"0 0 24 24\"\n",
              "       width=\"24px\">\n",
              "    <path d=\"M0 0h24v24H0V0z\" fill=\"none\"/>\n",
              "    <path d=\"M18.56 5.44l.94 2.06.94-2.06 2.06-.94-2.06-.94-.94-2.06-.94 2.06-2.06.94zm-11 1L8.5 8.5l.94-2.06 2.06-.94-2.06-.94L8.5 2.5l-.94 2.06-2.06.94zm10 10l.94 2.06.94-2.06 2.06-.94-2.06-.94-.94-2.06-.94 2.06-2.06.94z\"/><path d=\"M17.41 7.96l-1.37-1.37c-.4-.4-.92-.59-1.43-.59-.52 0-1.04.2-1.43.59L10.3 9.45l-7.72 7.72c-.78.78-.78 2.05 0 2.83L4 21.41c.39.39.9.59 1.41.59.51 0 1.02-.2 1.41-.59l7.78-7.78 2.81-2.81c.8-.78.8-2.07 0-2.86zM5.41 20L4 18.59l7.72-7.72 1.47 1.35L5.41 20z\"/>\n",
              "  </svg>\n",
              "      </button>\n",
              "      \n",
              "  <style>\n",
              "    .colab-df-container {\n",
              "      display:flex;\n",
              "      flex-wrap:wrap;\n",
              "      gap: 12px;\n",
              "    }\n",
              "\n",
              "    .colab-df-convert {\n",
              "      background-color: #E8F0FE;\n",
              "      border: none;\n",
              "      border-radius: 50%;\n",
              "      cursor: pointer;\n",
              "      display: none;\n",
              "      fill: #1967D2;\n",
              "      height: 32px;\n",
              "      padding: 0 0 0 0;\n",
              "      width: 32px;\n",
              "    }\n",
              "\n",
              "    .colab-df-convert:hover {\n",
              "      background-color: #E2EBFA;\n",
              "      box-shadow: 0px 1px 2px rgba(60, 64, 67, 0.3), 0px 1px 3px 1px rgba(60, 64, 67, 0.15);\n",
              "      fill: #174EA6;\n",
              "    }\n",
              "\n",
              "    [theme=dark] .colab-df-convert {\n",
              "      background-color: #3B4455;\n",
              "      fill: #D2E3FC;\n",
              "    }\n",
              "\n",
              "    [theme=dark] .colab-df-convert:hover {\n",
              "      background-color: #434B5C;\n",
              "      box-shadow: 0px 1px 3px 1px rgba(0, 0, 0, 0.15);\n",
              "      filter: drop-shadow(0px 1px 2px rgba(0, 0, 0, 0.3));\n",
              "      fill: #FFFFFF;\n",
              "    }\n",
              "  </style>\n",
              "\n",
              "      <script>\n",
              "        const buttonEl =\n",
              "          document.querySelector('#df-5d72dab8-88b5-4722-a1c0-9a6484a1b035 button.colab-df-convert');\n",
              "        buttonEl.style.display =\n",
              "          google.colab.kernel.accessAllowed ? 'block' : 'none';\n",
              "\n",
              "        async function convertToInteractive(key) {\n",
              "          const element = document.querySelector('#df-5d72dab8-88b5-4722-a1c0-9a6484a1b035');\n",
              "          const dataTable =\n",
              "            await google.colab.kernel.invokeFunction('convertToInteractive',\n",
              "                                                     [key], {});\n",
              "          if (!dataTable) return;\n",
              "\n",
              "          const docLinkHtml = 'Like what you see? Visit the ' +\n",
              "            '<a target=\"_blank\" href=https://colab.research.google.com/notebooks/data_table.ipynb>data table notebook</a>'\n",
              "            + ' to learn more about interactive tables.';\n",
              "          element.innerHTML = '';\n",
              "          dataTable['output_type'] = 'display_data';\n",
              "          await google.colab.output.renderOutput(dataTable, element);\n",
              "          const docLink = document.createElement('div');\n",
              "          docLink.innerHTML = docLinkHtml;\n",
              "          element.appendChild(docLink);\n",
              "        }\n",
              "      </script>\n",
              "    </div>\n",
              "  </div>\n",
              "  "
            ]
          },
          "metadata": {},
          "execution_count": 26
        }
      ]
    },
    {
      "cell_type": "code",
      "source": [
        "institution.replace(\"I'm in? Other\", \"Other\", inplace=True)\n",
        "institution.replace(\"I'm in? Grad School\", \"Grad School\", inplace=True)\n",
        "institution.replace(\"I'm in? Post-grad\", \"Post-grad\", inplace=True)\n",
        "institution.replace(\"I'm in? College\", \"College\", inplace=True)\n",
        "institution.replace(\"I'm in? High School\", \"High School\", inplace=True)"
      ],
      "metadata": {
        "id": "tPcc36JBZoK3"
      },
      "execution_count": null,
      "outputs": []
    },
    {
      "cell_type": "code",
      "source": [
        "institution"
      ],
      "metadata": {
        "colab": {
          "base_uri": "https://localhost:8080/",
          "height": 833
        },
        "id": "bTG5Z3g9ZoPH",
        "outputId": "a9ffe033-8889-44f5-cbcb-9e3772814250"
      },
      "execution_count": null,
      "outputs": [
        {
          "output_type": "execute_result",
          "data": {
            "text/plain": [
              "     Segment Description     Answer  Count\n",
              "1190               Other   Facebook      3\n",
              "1191               Other  Instagram      6\n",
              "1192               Other   Snapchat      2\n",
              "1193               Other    Twitter      0\n",
              "1194               Other       None      8\n",
              "1195         Grad School   Facebook      7\n",
              "1196         Grad School  Instagram     13\n",
              "1197         Grad School   Snapchat      4\n",
              "1198         Grad School    Twitter      3\n",
              "1199         Grad School       None     14\n",
              "1365           Post-grad   Facebook     15\n",
              "1366           Post-grad  Instagram     35\n",
              "1367           Post-grad   Snapchat      1\n",
              "1368           Post-grad    Twitter      1\n",
              "1369           Post-grad       None     43\n",
              "1385             College   Facebook    499\n",
              "1386             College  Instagram    781\n",
              "1387             College   Snapchat     74\n",
              "1388             College    Twitter    151\n",
              "1389             College       None    820\n",
              "1390         High School   Facebook     29\n",
              "1391         High School  Instagram     96\n",
              "1392         High School   Snapchat     14\n",
              "1393         High School    Twitter     32\n",
              "1394         High School       None    106"
            ],
            "text/html": [
              "\n",
              "  <div id=\"df-f9cf25ab-cc09-4d77-aa0b-4d359bbf7610\">\n",
              "    <div class=\"colab-df-container\">\n",
              "      <div>\n",
              "<style scoped>\n",
              "    .dataframe tbody tr th:only-of-type {\n",
              "        vertical-align: middle;\n",
              "    }\n",
              "\n",
              "    .dataframe tbody tr th {\n",
              "        vertical-align: top;\n",
              "    }\n",
              "\n",
              "    .dataframe thead th {\n",
              "        text-align: right;\n",
              "    }\n",
              "</style>\n",
              "<table border=\"1\" class=\"dataframe\">\n",
              "  <thead>\n",
              "    <tr style=\"text-align: right;\">\n",
              "      <th></th>\n",
              "      <th>Segment Description</th>\n",
              "      <th>Answer</th>\n",
              "      <th>Count</th>\n",
              "    </tr>\n",
              "  </thead>\n",
              "  <tbody>\n",
              "    <tr>\n",
              "      <th>1190</th>\n",
              "      <td>Other</td>\n",
              "      <td>Facebook</td>\n",
              "      <td>3</td>\n",
              "    </tr>\n",
              "    <tr>\n",
              "      <th>1191</th>\n",
              "      <td>Other</td>\n",
              "      <td>Instagram</td>\n",
              "      <td>6</td>\n",
              "    </tr>\n",
              "    <tr>\n",
              "      <th>1192</th>\n",
              "      <td>Other</td>\n",
              "      <td>Snapchat</td>\n",
              "      <td>2</td>\n",
              "    </tr>\n",
              "    <tr>\n",
              "      <th>1193</th>\n",
              "      <td>Other</td>\n",
              "      <td>Twitter</td>\n",
              "      <td>0</td>\n",
              "    </tr>\n",
              "    <tr>\n",
              "      <th>1194</th>\n",
              "      <td>Other</td>\n",
              "      <td>None</td>\n",
              "      <td>8</td>\n",
              "    </tr>\n",
              "    <tr>\n",
              "      <th>1195</th>\n",
              "      <td>Grad School</td>\n",
              "      <td>Facebook</td>\n",
              "      <td>7</td>\n",
              "    </tr>\n",
              "    <tr>\n",
              "      <th>1196</th>\n",
              "      <td>Grad School</td>\n",
              "      <td>Instagram</td>\n",
              "      <td>13</td>\n",
              "    </tr>\n",
              "    <tr>\n",
              "      <th>1197</th>\n",
              "      <td>Grad School</td>\n",
              "      <td>Snapchat</td>\n",
              "      <td>4</td>\n",
              "    </tr>\n",
              "    <tr>\n",
              "      <th>1198</th>\n",
              "      <td>Grad School</td>\n",
              "      <td>Twitter</td>\n",
              "      <td>3</td>\n",
              "    </tr>\n",
              "    <tr>\n",
              "      <th>1199</th>\n",
              "      <td>Grad School</td>\n",
              "      <td>None</td>\n",
              "      <td>14</td>\n",
              "    </tr>\n",
              "    <tr>\n",
              "      <th>1365</th>\n",
              "      <td>Post-grad</td>\n",
              "      <td>Facebook</td>\n",
              "      <td>15</td>\n",
              "    </tr>\n",
              "    <tr>\n",
              "      <th>1366</th>\n",
              "      <td>Post-grad</td>\n",
              "      <td>Instagram</td>\n",
              "      <td>35</td>\n",
              "    </tr>\n",
              "    <tr>\n",
              "      <th>1367</th>\n",
              "      <td>Post-grad</td>\n",
              "      <td>Snapchat</td>\n",
              "      <td>1</td>\n",
              "    </tr>\n",
              "    <tr>\n",
              "      <th>1368</th>\n",
              "      <td>Post-grad</td>\n",
              "      <td>Twitter</td>\n",
              "      <td>1</td>\n",
              "    </tr>\n",
              "    <tr>\n",
              "      <th>1369</th>\n",
              "      <td>Post-grad</td>\n",
              "      <td>None</td>\n",
              "      <td>43</td>\n",
              "    </tr>\n",
              "    <tr>\n",
              "      <th>1385</th>\n",
              "      <td>College</td>\n",
              "      <td>Facebook</td>\n",
              "      <td>499</td>\n",
              "    </tr>\n",
              "    <tr>\n",
              "      <th>1386</th>\n",
              "      <td>College</td>\n",
              "      <td>Instagram</td>\n",
              "      <td>781</td>\n",
              "    </tr>\n",
              "    <tr>\n",
              "      <th>1387</th>\n",
              "      <td>College</td>\n",
              "      <td>Snapchat</td>\n",
              "      <td>74</td>\n",
              "    </tr>\n",
              "    <tr>\n",
              "      <th>1388</th>\n",
              "      <td>College</td>\n",
              "      <td>Twitter</td>\n",
              "      <td>151</td>\n",
              "    </tr>\n",
              "    <tr>\n",
              "      <th>1389</th>\n",
              "      <td>College</td>\n",
              "      <td>None</td>\n",
              "      <td>820</td>\n",
              "    </tr>\n",
              "    <tr>\n",
              "      <th>1390</th>\n",
              "      <td>High School</td>\n",
              "      <td>Facebook</td>\n",
              "      <td>29</td>\n",
              "    </tr>\n",
              "    <tr>\n",
              "      <th>1391</th>\n",
              "      <td>High School</td>\n",
              "      <td>Instagram</td>\n",
              "      <td>96</td>\n",
              "    </tr>\n",
              "    <tr>\n",
              "      <th>1392</th>\n",
              "      <td>High School</td>\n",
              "      <td>Snapchat</td>\n",
              "      <td>14</td>\n",
              "    </tr>\n",
              "    <tr>\n",
              "      <th>1393</th>\n",
              "      <td>High School</td>\n",
              "      <td>Twitter</td>\n",
              "      <td>32</td>\n",
              "    </tr>\n",
              "    <tr>\n",
              "      <th>1394</th>\n",
              "      <td>High School</td>\n",
              "      <td>None</td>\n",
              "      <td>106</td>\n",
              "    </tr>\n",
              "  </tbody>\n",
              "</table>\n",
              "</div>\n",
              "      <button class=\"colab-df-convert\" onclick=\"convertToInteractive('df-f9cf25ab-cc09-4d77-aa0b-4d359bbf7610')\"\n",
              "              title=\"Convert this dataframe to an interactive table.\"\n",
              "              style=\"display:none;\">\n",
              "        \n",
              "  <svg xmlns=\"http://www.w3.org/2000/svg\" height=\"24px\"viewBox=\"0 0 24 24\"\n",
              "       width=\"24px\">\n",
              "    <path d=\"M0 0h24v24H0V0z\" fill=\"none\"/>\n",
              "    <path d=\"M18.56 5.44l.94 2.06.94-2.06 2.06-.94-2.06-.94-.94-2.06-.94 2.06-2.06.94zm-11 1L8.5 8.5l.94-2.06 2.06-.94-2.06-.94L8.5 2.5l-.94 2.06-2.06.94zm10 10l.94 2.06.94-2.06 2.06-.94-2.06-.94-.94-2.06-.94 2.06-2.06.94z\"/><path d=\"M17.41 7.96l-1.37-1.37c-.4-.4-.92-.59-1.43-.59-.52 0-1.04.2-1.43.59L10.3 9.45l-7.72 7.72c-.78.78-.78 2.05 0 2.83L4 21.41c.39.39.9.59 1.41.59.51 0 1.02-.2 1.41-.59l7.78-7.78 2.81-2.81c.8-.78.8-2.07 0-2.86zM5.41 20L4 18.59l7.72-7.72 1.47 1.35L5.41 20z\"/>\n",
              "  </svg>\n",
              "      </button>\n",
              "      \n",
              "  <style>\n",
              "    .colab-df-container {\n",
              "      display:flex;\n",
              "      flex-wrap:wrap;\n",
              "      gap: 12px;\n",
              "    }\n",
              "\n",
              "    .colab-df-convert {\n",
              "      background-color: #E8F0FE;\n",
              "      border: none;\n",
              "      border-radius: 50%;\n",
              "      cursor: pointer;\n",
              "      display: none;\n",
              "      fill: #1967D2;\n",
              "      height: 32px;\n",
              "      padding: 0 0 0 0;\n",
              "      width: 32px;\n",
              "    }\n",
              "\n",
              "    .colab-df-convert:hover {\n",
              "      background-color: #E2EBFA;\n",
              "      box-shadow: 0px 1px 2px rgba(60, 64, 67, 0.3), 0px 1px 3px 1px rgba(60, 64, 67, 0.15);\n",
              "      fill: #174EA6;\n",
              "    }\n",
              "\n",
              "    [theme=dark] .colab-df-convert {\n",
              "      background-color: #3B4455;\n",
              "      fill: #D2E3FC;\n",
              "    }\n",
              "\n",
              "    [theme=dark] .colab-df-convert:hover {\n",
              "      background-color: #434B5C;\n",
              "      box-shadow: 0px 1px 3px 1px rgba(0, 0, 0, 0.15);\n",
              "      filter: drop-shadow(0px 1px 2px rgba(0, 0, 0, 0.3));\n",
              "      fill: #FFFFFF;\n",
              "    }\n",
              "  </style>\n",
              "\n",
              "      <script>\n",
              "        const buttonEl =\n",
              "          document.querySelector('#df-f9cf25ab-cc09-4d77-aa0b-4d359bbf7610 button.colab-df-convert');\n",
              "        buttonEl.style.display =\n",
              "          google.colab.kernel.accessAllowed ? 'block' : 'none';\n",
              "\n",
              "        async function convertToInteractive(key) {\n",
              "          const element = document.querySelector('#df-f9cf25ab-cc09-4d77-aa0b-4d359bbf7610');\n",
              "          const dataTable =\n",
              "            await google.colab.kernel.invokeFunction('convertToInteractive',\n",
              "                                                     [key], {});\n",
              "          if (!dataTable) return;\n",
              "\n",
              "          const docLinkHtml = 'Like what you see? Visit the ' +\n",
              "            '<a target=\"_blank\" href=https://colab.research.google.com/notebooks/data_table.ipynb>data table notebook</a>'\n",
              "            + ' to learn more about interactive tables.';\n",
              "          element.innerHTML = '';\n",
              "          dataTable['output_type'] = 'display_data';\n",
              "          await google.colab.output.renderOutput(dataTable, element);\n",
              "          const docLink = document.createElement('div');\n",
              "          docLink.innerHTML = docLinkHtml;\n",
              "          element.appendChild(docLink);\n",
              "        }\n",
              "      </script>\n",
              "    </div>\n",
              "  </div>\n",
              "  "
            ]
          },
          "metadata": {},
          "execution_count": 28
        }
      ]
    },
    {
      "cell_type": "code",
      "source": [
        "institution.set_index(['Segment Description', 'Answer']).unstack(level='Answer').droplevel(None, axis=1).reindex(['High School',\n",
        "                                                                                                                  'Grad School',\n",
        "                                                                                                                  'College',\n",
        "                                                                                                                  'Post-grad',\n",
        "                                                                                                                  'Other']).plot.barh(color=['royalblue',\n",
        "                                                                                                                                              'hotpink',\n",
        "                                                                                                                                              'grey',\n",
        "                                                                                                                                              'yellow',\n",
        "                                                                                                                                              'lightblue']);\n",
        "plt.title(\"Most Influential Social Media Platform Based On Current Institution\");\n",
        "plt.ylabel(\"Parent Income\");\n",
        "plt.xlabel(\"People\");\n",
        "plt.legend(loc='upper right');"
      ],
      "metadata": {
        "colab": {
          "base_uri": "https://localhost:8080/",
          "height": 472
        },
        "id": "CcDH2bq4qFY4",
        "outputId": "a0e16df9-64e4-4d31-cbc3-af94ff368b4a"
      },
      "execution_count": null,
      "outputs": [
        {
          "output_type": "display_data",
          "data": {
            "text/plain": [
              "<Figure size 640x480 with 1 Axes>"
            ],
            "image/png": "[encoded data removed]"
          },
          "metadata": {}
        }
      ]
    },
    {
      "cell_type": "markdown",
      "source": [
        "# Insight & Recommendation\n",
        "\n",
        "Insight:\n",
        "1. Most respondents online shop behavior were mostly influenced by **Instagram**. One third of people choose \"None\"\n",
        "2. **Female** mostly choose **Instagram**, while **Male** choose **Instagram and Facebook**. Male were less likely be influenced by social media (according to the number of male choosing \"None\").\n",
        "3. Based on parent income and current institution (high school, university, other), the **trend** is always the same. Most respondents answered with **None, Instagram, and Facebook**.\n",
        "4. Most respondent were a student of university.\n",
        "\n",
        "Recommendation:\n",
        "1. Having an instagram and facebook account to promote and sell the product.\n",
        "2. Focus advertising on the product for women in the age around 20.\n"
      ],
      "metadata": {
        "id": "vposUNgyGVNT"
      }
    },
    {
      "cell_type": "markdown",
      "source": [
        "## Adidas US Sales Data (Second Dataset)\n",
        "Data Description\n",
        "\n",
        "This complete project was downloaded as raw data from Kaggle, I added some more sheets to it and make it perfect to understand by cleaning data, analyzing data and visualizing data in a perfect manner.\n",
        "\n",
        "https://www.kaggle.com/datasets/sakhawatalilarik/adidas-us-sales-data"
      ],
      "metadata": {
        "id": "xQGA7YU7gQGN"
      }
    },
    {
      "cell_type": "code",
      "source": [
        "from google.colab import drive\n",
        "drive.mount('/content/drive')\n",
        "\n"
      ],
      "metadata": {
        "id": "_E1zVaTao0m7",
        "colab": {
          "base_uri": "https://localhost:8080/"
        },
        "outputId": "79133034-a13b-40bc-f3e1-4b31adf584a4"
      },
      "execution_count": null,
      "outputs": [
        {
          "output_type": "stream",
          "name": "stdout",
          "text": [
            "Mounted at /content/drive\n"
          ]
        }
      ]
    },
    {
      "cell_type": "code",
      "source": [
        "import pandas as pd\n",
        "import numpy as np"
      ],
      "metadata": {
        "id": "-T1Pu_1CtznD"
      },
      "execution_count": null,
      "outputs": []
    },
    {
      "cell_type": "code",
      "source": [
        "filename3= '/content/drive/MyDrive/Algoritma_Project/Adidas US Sales Datasets.csv'\n",
        "df_adidas2= pd.read_csv(filename3)"
      ],
      "metadata": {
        "id": "N_u1ZGiYo044"
      },
      "execution_count": null,
      "outputs": []
    },
    {
      "cell_type": "code",
      "source": [
        "df_adidas2.head()"
      ],
      "metadata": {
        "id": "Wl84hst4o1Kv",
        "colab": {
          "base_uri": "https://localhost:8080/",
          "height": 354
        },
        "outputId": "49def8c5-b522-495a-a4df-b95ff3e8eab5"
      },
      "execution_count": null,
      "outputs": [
        {
          "output_type": "execute_result",
          "data": {
            "text/plain": [
              "      Retailer  Retailer ID Invoice Date     Region     State      City  \\\n",
              "0  Foot Locker      1185732     1/1/2020  Northeast  New York  New York   \n",
              "1  Foot Locker      1185732     1/2/2020  Northeast  New York  New York   \n",
              "2  Foot Locker      1185732     1/3/2020  Northeast  New York  New York   \n",
              "3  Foot Locker      1185732     1/4/2020  Northeast  New York  New York   \n",
              "4  Foot Locker      1185732     1/5/2020  Northeast  New York  New York   \n",
              "\n",
              "                     Product Price per Unit Units Sold Total Sales  \\\n",
              "0      Men's Street Footwear            $50      1,200    $600,000   \n",
              "1    Men's Athletic Footwear            $50      1,000    $500,000   \n",
              "2    Women's Street Footwear            $40      1,000    $400,000   \n",
              "3  Women's Athletic Footwear            $45        850    $382,500   \n",
              "4              Men's Apparel            $60        900    $540,000   \n",
              "\n",
              "  Operating Profit Operating Margin Sales Method  \n",
              "0         $300,000              50%     In-store  \n",
              "1         $150,000              30%     In-store  \n",
              "2         $140,000              35%     In-store  \n",
              "3         $133,875              35%     In-store  \n",
              "4         $162,000              30%     In-store  "
            ],
            "text/html": [
              "\n",
              "  <div id=\"df-c0def865-bfcc-40ac-a7b1-33f926b6f484\">\n",
              "    <div class=\"colab-df-container\">\n",
              "      <div>\n",
              "<style scoped>\n",
              "    .dataframe tbody tr th:only-of-type {\n",
              "        vertical-align: middle;\n",
              "    }\n",
              "\n",
              "    .dataframe tbody tr th {\n",
              "        vertical-align: top;\n",
              "    }\n",
              "\n",
              "    .dataframe thead th {\n",
              "        text-align: right;\n",
              "    }\n",
              "</style>\n",
              "<table border=\"1\" class=\"dataframe\">\n",
              "  <thead>\n",
              "    <tr style=\"text-align: right;\">\n",
              "      <th></th>\n",
              "      <th>Retailer</th>\n",
              "      <th>Retailer ID</th>\n",
              "      <th>Invoice Date</th>\n",
              "      <th>Region</th>\n",
              "      <th>State</th>\n",
              "      <th>City</th>\n",
              "      <th>Product</th>\n",
              "      <th>Price per Unit</th>\n",
              "      <th>Units Sold</th>\n",
              "      <th>Total Sales</th>\n",
              "      <th>Operating Profit</th>\n",
              "      <th>Operating Margin</th>\n",
              "      <th>Sales Method</th>\n",
              "    </tr>\n",
              "  </thead>\n",
              "  <tbody>\n",
              "    <tr>\n",
              "      <th>0</th>\n",
              "      <td>Foot Locker</td>\n",
              "      <td>1185732</td>\n",
              "      <td>1/1/2020</td>\n",
              "      <td>Northeast</td>\n",
              "      <td>New York</td>\n",
              "      <td>New York</td>\n",
              "      <td>Men's Street Footwear</td>\n",
              "      <td>$50</td>\n",
              "      <td>1,200</td>\n",
              "      <td>$600,000</td>\n",
              "      <td>$300,000</td>\n",
              "      <td>50%</td>\n",
              "      <td>In-store</td>\n",
              "    </tr>\n",
              "    <tr>\n",
              "      <th>1</th>\n",
              "      <td>Foot Locker</td>\n",
              "      <td>1185732</td>\n",
              "      <td>1/2/2020</td>\n",
              "      <td>Northeast</td>\n",
              "      <td>New York</td>\n",
              "      <td>New York</td>\n",
              "      <td>Men's Athletic Footwear</td>\n",
              "      <td>$50</td>\n",
              "      <td>1,000</td>\n",
              "      <td>$500,000</td>\n",
              "      <td>$150,000</td>\n",
              "      <td>30%</td>\n",
              "      <td>In-store</td>\n",
              "    </tr>\n",
              "    <tr>\n",
              "      <th>2</th>\n",
              "      <td>Foot Locker</td>\n",
              "      <td>1185732</td>\n",
              "      <td>1/3/2020</td>\n",
              "      <td>Northeast</td>\n",
              "      <td>New York</td>\n",
              "      <td>New York</td>\n",
              "      <td>Women's Street Footwear</td>\n",
              "      <td>$40</td>\n",
              "      <td>1,000</td>\n",
              "      <td>$400,000</td>\n",
              "      <td>$140,000</td>\n",
              "      <td>35%</td>\n",
              "      <td>In-store</td>\n",
              "    </tr>\n",
              "    <tr>\n",
              "      <th>3</th>\n",
              "      <td>Foot Locker</td>\n",
              "      <td>1185732</td>\n",
              "      <td>1/4/2020</td>\n",
              "      <td>Northeast</td>\n",
              "      <td>New York</td>\n",
              "      <td>New York</td>\n",
              "      <td>Women's Athletic Footwear</td>\n",
              "      <td>$45</td>\n",
              "      <td>850</td>\n",
              "      <td>$382,500</td>\n",
              "      <td>$133,875</td>\n",
              "      <td>35%</td>\n",
              "      <td>In-store</td>\n",
              "    </tr>\n",
              "    <tr>\n",
              "      <th>4</th>\n",
              "      <td>Foot Locker</td>\n",
              "      <td>1185732</td>\n",
              "      <td>1/5/2020</td>\n",
              "      <td>Northeast</td>\n",
              "      <td>New York</td>\n",
              "      <td>New York</td>\n",
              "      <td>Men's Apparel</td>\n",
              "      <td>$60</td>\n",
              "      <td>900</td>\n",
              "      <td>$540,000</td>\n",
              "      <td>$162,000</td>\n",
              "      <td>30%</td>\n",
              "      <td>In-store</td>\n",
              "    </tr>\n",
              "  </tbody>\n",
              "</table>\n",
              "</div>\n",
              "      <button class=\"colab-df-convert\" onclick=\"convertToInteractive('df-c0def865-bfcc-40ac-a7b1-33f926b6f484')\"\n",
              "              title=\"Convert this dataframe to an interactive table.\"\n",
              "              style=\"display:none;\">\n",
              "        \n",
              "  <svg xmlns=\"http://www.w3.org/2000/svg\" height=\"24px\"viewBox=\"0 0 24 24\"\n",
              "       width=\"24px\">\n",
              "    <path d=\"M0 0h24v24H0V0z\" fill=\"none\"/>\n",
              "    <path d=\"M18.56 5.44l.94 2.06.94-2.06 2.06-.94-2.06-.94-.94-2.06-.94 2.06-2.06.94zm-11 1L8.5 8.5l.94-2.06 2.06-.94-2.06-.94L8.5 2.5l-.94 2.06-2.06.94zm10 10l.94 2.06.94-2.06 2.06-.94-2.06-.94-.94-2.06-.94 2.06-2.06.94z\"/><path d=\"M17.41 7.96l-1.37-1.37c-.4-.4-.92-.59-1.43-.59-.52 0-1.04.2-1.43.59L10.3 9.45l-7.72 7.72c-.78.78-.78 2.05 0 2.83L4 21.41c.39.39.9.59 1.41.59.51 0 1.02-.2 1.41-.59l7.78-7.78 2.81-2.81c.8-.78.8-2.07 0-2.86zM5.41 20L4 18.59l7.72-7.72 1.47 1.35L5.41 20z\"/>\n",
              "  </svg>\n",
              "      </button>\n",
              "      \n",
              "  <style>\n",
              "    .colab-df-container {\n",
              "      display:flex;\n",
              "      flex-wrap:wrap;\n",
              "      gap: 12px;\n",
              "    }\n",
              "\n",
              "    .colab-df-convert {\n",
              "      background-color: #E8F0FE;\n",
              "      border: none;\n",
              "      border-radius: 50%;\n",
              "      cursor: pointer;\n",
              "      display: none;\n",
              "      fill: #1967D2;\n",
              "      height: 32px;\n",
              "      padding: 0 0 0 0;\n",
              "      width: 32px;\n",
              "    }\n",
              "\n",
              "    .colab-df-convert:hover {\n",
              "      background-color: #E2EBFA;\n",
              "      box-shadow: 0px 1px 2px rgba(60, 64, 67, 0.3), 0px 1px 3px 1px rgba(60, 64, 67, 0.15);\n",
              "      fill: #174EA6;\n",
              "    }\n",
              "\n",
              "    [theme=dark] .colab-df-convert {\n",
              "      background-color: #3B4455;\n",
              "      fill: #D2E3FC;\n",
              "    }\n",
              "\n",
              "    [theme=dark] .colab-df-convert:hover {\n",
              "      background-color: #434B5C;\n",
              "      box-shadow: 0px 1px 3px 1px rgba(0, 0, 0, 0.15);\n",
              "      filter: drop-shadow(0px 1px 2px rgba(0, 0, 0, 0.3));\n",
              "      fill: #FFFFFF;\n",
              "    }\n",
              "  </style>\n",
              "\n",
              "      <script>\n",
              "        const buttonEl =\n",
              "          document.querySelector('#df-c0def865-bfcc-40ac-a7b1-33f926b6f484 button.colab-df-convert');\n",
              "        buttonEl.style.display =\n",
              "          google.colab.kernel.accessAllowed ? 'block' : 'none';\n",
              "\n",
              "        async function convertToInteractive(key) {\n",
              "          const element = document.querySelector('#df-c0def865-bfcc-40ac-a7b1-33f926b6f484');\n",
              "          const dataTable =\n",
              "            await google.colab.kernel.invokeFunction('convertToInteractive',\n",
              "                                                     [key], {});\n",
              "          if (!dataTable) return;\n",
              "\n",
              "          const docLinkHtml = 'Like what you see? Visit the ' +\n",
              "            '<a target=\"_blank\" href=https://colab.research.google.com/notebooks/data_table.ipynb>data table notebook</a>'\n",
              "            + ' to learn more about interactive tables.';\n",
              "          element.innerHTML = '';\n",
              "          dataTable['output_type'] = 'display_data';\n",
              "          await google.colab.output.renderOutput(dataTable, element);\n",
              "          const docLink = document.createElement('div');\n",
              "          docLink.innerHTML = docLinkHtml;\n",
              "          element.appendChild(docLink);\n",
              "        }\n",
              "      </script>\n",
              "    </div>\n",
              "  </div>\n",
              "  "
            ]
          },
          "metadata": {},
          "execution_count": 4
        }
      ]
    },
    {
      "cell_type": "code",
      "source": [
        "df_adidas2.shape"
      ],
      "metadata": {
        "colab": {
          "base_uri": "https://localhost:8080/"
        },
        "id": "WMERjak3myOz",
        "outputId": "6991aef0-57dc-4055-f360-90bd933ffbdc"
      },
      "execution_count": null,
      "outputs": [
        {
          "output_type": "execute_result",
          "data": {
            "text/plain": [
              "(9648, 13)"
            ]
          },
          "metadata": {},
          "execution_count": 5
        }
      ]
    },
    {
      "cell_type": "markdown",
      "source": [
        "**Data Pre-processing**"
      ],
      "metadata": {
        "id": "uKbXzfJNPyYo"
      }
    },
    {
      "cell_type": "code",
      "source": [
        "df_adidas2.info()"
      ],
      "metadata": {
        "id": "Z50W06CSI8d_",
        "colab": {
          "base_uri": "https://localhost:8080/"
        },
        "outputId": "71dd58a9-3b85-47ff-f683-f43455b00369"
      },
      "execution_count": null,
      "outputs": [
        {
          "output_type": "stream",
          "name": "stdout",
          "text": [
            "<class 'pandas.core.frame.DataFrame'>\n",
            "RangeIndex: 9648 entries, 0 to 9647\n",
            "Data columns (total 13 columns):\n",
            " #   Column            Non-Null Count  Dtype \n",
            "---  ------            --------------  ----- \n",
            " 0   Retailer          9648 non-null   object\n",
            " 1   Retailer ID       9648 non-null   int64 \n",
            " 2   Invoice Date      9648 non-null   object\n",
            " 3   Region            9648 non-null   object\n",
            " 4   State             9648 non-null   object\n",
            " 5   City              9648 non-null   object\n",
            " 6   Product           9648 non-null   object\n",
            " 7   Price per Unit    9648 non-null   object\n",
            " 8   Units Sold        9648 non-null   object\n",
            " 9   Total Sales       9648 non-null   object\n",
            " 10  Operating Profit  9648 non-null   object\n",
            " 11  Operating Margin  9648 non-null   object\n",
            " 12  Sales Method      9648 non-null   object\n",
            "dtypes: int64(1), object(12)\n",
            "memory usage: 980.0+ KB\n"
          ]
        }
      ]
    },
    {
      "cell_type": "code",
      "source": [
        "df_adidas2['Price per Unit'] = df_adidas2['Price per Unit'].str.replace('$', '')\n",
        "df_adidas2['Total Sales'] = df_adidas2['Total Sales'].str.replace('$', '')\n",
        "df_adidas2['Operating Profit'] = df_adidas2['Operating Profit'].str.replace('$', '')\n"
      ],
      "metadata": {
        "id": "1LPyy4bBJeZF",
        "colab": {
          "base_uri": "https://localhost:8080/"
        },
        "outputId": "05e05d2d-e8ed-4a4b-884a-13974936e390"
      },
      "execution_count": null,
      "outputs": [
        {
          "output_type": "stream",
          "name": "stderr",
          "text": [
            "<ipython-input-7-eed654640893>:1: FutureWarning: The default value of regex will change from True to False in a future version. In addition, single character regular expressions will *not* be treated as literal strings when regex=True.\n",
            "  df_adidas2['Price per Unit'] = df_adidas2['Price per Unit'].str.replace('$', '')\n",
            "<ipython-input-7-eed654640893>:2: FutureWarning: The default value of regex will change from True to False in a future version. In addition, single character regular expressions will *not* be treated as literal strings when regex=True.\n",
            "  df_adidas2['Total Sales'] = df_adidas2['Total Sales'].str.replace('$', '')\n",
            "<ipython-input-7-eed654640893>:3: FutureWarning: The default value of regex will change from True to False in a future version. In addition, single character regular expressions will *not* be treated as literal strings when regex=True.\n",
            "  df_adidas2['Operating Profit'] = df_adidas2['Operating Profit'].str.replace('$', '')\n"
          ]
        }
      ]
    },
    {
      "cell_type": "code",
      "source": [
        "df_adidas2['Units Sold'] = df_adidas2['Units Sold'].str.replace(',', '')\n",
        "df_adidas2['Total Sales'] = df_adidas2['Total Sales'].str.replace(',', '')\n",
        "df_adidas2['Operating Profit'] = df_adidas2['Operating Profit'].str.replace(',', '')"
      ],
      "metadata": {
        "id": "XjgUjJmmNFJ8"
      },
      "execution_count": null,
      "outputs": []
    },
    {
      "cell_type": "code",
      "source": [
        "df_adidas2.head()"
      ],
      "metadata": {
        "id": "7Eyrzw_XLM-T",
        "colab": {
          "base_uri": "https://localhost:8080/",
          "height": 354
        },
        "outputId": "f09580ab-9c83-4d04-a2ee-785661ef3d76"
      },
      "execution_count": null,
      "outputs": [
        {
          "output_type": "execute_result",
          "data": {
            "text/plain": [
              "      Retailer  Retailer ID Invoice Date     Region     State      City  \\\n",
              "0  Foot Locker      1185732     1/1/2020  Northeast  New York  New York   \n",
              "1  Foot Locker      1185732     1/2/2020  Northeast  New York  New York   \n",
              "2  Foot Locker      1185732     1/3/2020  Northeast  New York  New York   \n",
              "3  Foot Locker      1185732     1/4/2020  Northeast  New York  New York   \n",
              "4  Foot Locker      1185732     1/5/2020  Northeast  New York  New York   \n",
              "\n",
              "                     Product Price per Unit Units Sold Total Sales  \\\n",
              "0      Men's Street Footwear             50       1200      600000   \n",
              "1    Men's Athletic Footwear             50       1000      500000   \n",
              "2    Women's Street Footwear             40       1000      400000   \n",
              "3  Women's Athletic Footwear             45        850      382500   \n",
              "4              Men's Apparel             60        900      540000   \n",
              "\n",
              "  Operating Profit Operating Margin Sales Method  \n",
              "0           300000              50%     In-store  \n",
              "1           150000              30%     In-store  \n",
              "2           140000              35%     In-store  \n",
              "3           133875              35%     In-store  \n",
              "4           162000              30%     In-store  "
            ],
            "text/html": [
              "\n",
              "  <div id=\"df-8ca53361-bd53-4cd7-b449-e85854cdc99d\">\n",
              "    <div class=\"colab-df-container\">\n",
              "      <div>\n",
              "<style scoped>\n",
              "    .dataframe tbody tr th:only-of-type {\n",
              "        vertical-align: middle;\n",
              "    }\n",
              "\n",
              "    .dataframe tbody tr th {\n",
              "        vertical-align: top;\n",
              "    }\n",
              "\n",
              "    .dataframe thead th {\n",
              "        text-align: right;\n",
              "    }\n",
              "</style>\n",
              "<table border=\"1\" class=\"dataframe\">\n",
              "  <thead>\n",
              "    <tr style=\"text-align: right;\">\n",
              "      <th></th>\n",
              "      <th>Retailer</th>\n",
              "      <th>Retailer ID</th>\n",
              "      <th>Invoice Date</th>\n",
              "      <th>Region</th>\n",
              "      <th>State</th>\n",
              "      <th>City</th>\n",
              "      <th>Product</th>\n",
              "      <th>Price per Unit</th>\n",
              "      <th>Units Sold</th>\n",
              "      <th>Total Sales</th>\n",
              "      <th>Operating Profit</th>\n",
              "      <th>Operating Margin</th>\n",
              "      <th>Sales Method</th>\n",
              "    </tr>\n",
              "  </thead>\n",
              "  <tbody>\n",
              "    <tr>\n",
              "      <th>0</th>\n",
              "      <td>Foot Locker</td>\n",
              "      <td>1185732</td>\n",
              "      <td>1/1/2020</td>\n",
              "      <td>Northeast</td>\n",
              "      <td>New York</td>\n",
              "      <td>New York</td>\n",
              "      <td>Men's Street Footwear</td>\n",
              "      <td>50</td>\n",
              "      <td>1200</td>\n",
              "      <td>600000</td>\n",
              "      <td>300000</td>\n",
              "      <td>50%</td>\n",
              "      <td>In-store</td>\n",
              "    </tr>\n",
              "    <tr>\n",
              "      <th>1</th>\n",
              "      <td>Foot Locker</td>\n",
              "      <td>1185732</td>\n",
              "      <td>1/2/2020</td>\n",
              "      <td>Northeast</td>\n",
              "      <td>New York</td>\n",
              "      <td>New York</td>\n",
              "      <td>Men's Athletic Footwear</td>\n",
              "      <td>50</td>\n",
              "      <td>1000</td>\n",
              "      <td>500000</td>\n",
              "      <td>150000</td>\n",
              "      <td>30%</td>\n",
              "      <td>In-store</td>\n",
              "    </tr>\n",
              "    <tr>\n",
              "      <th>2</th>\n",
              "      <td>Foot Locker</td>\n",
              "      <td>1185732</td>\n",
              "      <td>1/3/2020</td>\n",
              "      <td>Northeast</td>\n",
              "      <td>New York</td>\n",
              "      <td>New York</td>\n",
              "      <td>Women's Street Footwear</td>\n",
              "      <td>40</td>\n",
              "      <td>1000</td>\n",
              "      <td>400000</td>\n",
              "      <td>140000</td>\n",
              "      <td>35%</td>\n",
              "      <td>In-store</td>\n",
              "    </tr>\n",
              "    <tr>\n",
              "      <th>3</th>\n",
              "      <td>Foot Locker</td>\n",
              "      <td>1185732</td>\n",
              "      <td>1/4/2020</td>\n",
              "      <td>Northeast</td>\n",
              "      <td>New York</td>\n",
              "      <td>New York</td>\n",
              "      <td>Women's Athletic Footwear</td>\n",
              "      <td>45</td>\n",
              "      <td>850</td>\n",
              "      <td>382500</td>\n",
              "      <td>133875</td>\n",
              "      <td>35%</td>\n",
              "      <td>In-store</td>\n",
              "    </tr>\n",
              "    <tr>\n",
              "      <th>4</th>\n",
              "      <td>Foot Locker</td>\n",
              "      <td>1185732</td>\n",
              "      <td>1/5/2020</td>\n",
              "      <td>Northeast</td>\n",
              "      <td>New York</td>\n",
              "      <td>New York</td>\n",
              "      <td>Men's Apparel</td>\n",
              "      <td>60</td>\n",
              "      <td>900</td>\n",
              "      <td>540000</td>\n",
              "      <td>162000</td>\n",
              "      <td>30%</td>\n",
              "      <td>In-store</td>\n",
              "    </tr>\n",
              "  </tbody>\n",
              "</table>\n",
              "</div>\n",
              "      <button class=\"colab-df-convert\" onclick=\"convertToInteractive('df-8ca53361-bd53-4cd7-b449-e85854cdc99d')\"\n",
              "              title=\"Convert this dataframe to an interactive table.\"\n",
              "              style=\"display:none;\">\n",
              "        \n",
              "  <svg xmlns=\"http://www.w3.org/2000/svg\" height=\"24px\"viewBox=\"0 0 24 24\"\n",
              "       width=\"24px\">\n",
              "    <path d=\"M0 0h24v24H0V0z\" fill=\"none\"/>\n",
              "    <path d=\"M18.56 5.44l.94 2.06.94-2.06 2.06-.94-2.06-.94-.94-2.06-.94 2.06-2.06.94zm-11 1L8.5 8.5l.94-2.06 2.06-.94-2.06-.94L8.5 2.5l-.94 2.06-2.06.94zm10 10l.94 2.06.94-2.06 2.06-.94-2.06-.94-.94-2.06-.94 2.06-2.06.94z\"/><path d=\"M17.41 7.96l-1.37-1.37c-.4-.4-.92-.59-1.43-.59-.52 0-1.04.2-1.43.59L10.3 9.45l-7.72 7.72c-.78.78-.78 2.05 0 2.83L4 21.41c.39.39.9.59 1.41.59.51 0 1.02-.2 1.41-.59l7.78-7.78 2.81-2.81c.8-.78.8-2.07 0-2.86zM5.41 20L4 18.59l7.72-7.72 1.47 1.35L5.41 20z\"/>\n",
              "  </svg>\n",
              "      </button>\n",
              "      \n",
              "  <style>\n",
              "    .colab-df-container {\n",
              "      display:flex;\n",
              "      flex-wrap:wrap;\n",
              "      gap: 12px;\n",
              "    }\n",
              "\n",
              "    .colab-df-convert {\n",
              "      background-color: #E8F0FE;\n",
              "      border: none;\n",
              "      border-radius: 50%;\n",
              "      cursor: pointer;\n",
              "      display: none;\n",
              "      fill: #1967D2;\n",
              "      height: 32px;\n",
              "      padding: 0 0 0 0;\n",
              "      width: 32px;\n",
              "    }\n",
              "\n",
              "    .colab-df-convert:hover {\n",
              "      background-color: #E2EBFA;\n",
              "      box-shadow: 0px 1px 2px rgba(60, 64, 67, 0.3), 0px 1px 3px 1px rgba(60, 64, 67, 0.15);\n",
              "      fill: #174EA6;\n",
              "    }\n",
              "\n",
              "    [theme=dark] .colab-df-convert {\n",
              "      background-color: #3B4455;\n",
              "      fill: #D2E3FC;\n",
              "    }\n",
              "\n",
              "    [theme=dark] .colab-df-convert:hover {\n",
              "      background-color: #434B5C;\n",
              "      box-shadow: 0px 1px 3px 1px rgba(0, 0, 0, 0.15);\n",
              "      filter: drop-shadow(0px 1px 2px rgba(0, 0, 0, 0.3));\n",
              "      fill: #FFFFFF;\n",
              "    }\n",
              "  </style>\n",
              "\n",
              "      <script>\n",
              "        const buttonEl =\n",
              "          document.querySelector('#df-8ca53361-bd53-4cd7-b449-e85854cdc99d button.colab-df-convert');\n",
              "        buttonEl.style.display =\n",
              "          google.colab.kernel.accessAllowed ? 'block' : 'none';\n",
              "\n",
              "        async function convertToInteractive(key) {\n",
              "          const element = document.querySelector('#df-8ca53361-bd53-4cd7-b449-e85854cdc99d');\n",
              "          const dataTable =\n",
              "            await google.colab.kernel.invokeFunction('convertToInteractive',\n",
              "                                                     [key], {});\n",
              "          if (!dataTable) return;\n",
              "\n",
              "          const docLinkHtml = 'Like what you see? Visit the ' +\n",
              "            '<a target=\"_blank\" href=https://colab.research.google.com/notebooks/data_table.ipynb>data table notebook</a>'\n",
              "            + ' to learn more about interactive tables.';\n",
              "          element.innerHTML = '';\n",
              "          dataTable['output_type'] = 'display_data';\n",
              "          await google.colab.output.renderOutput(dataTable, element);\n",
              "          const docLink = document.createElement('div');\n",
              "          docLink.innerHTML = docLinkHtml;\n",
              "          element.appendChild(docLink);\n",
              "        }\n",
              "      </script>\n",
              "    </div>\n",
              "  </div>\n",
              "  "
            ]
          },
          "metadata": {},
          "execution_count": 9
        }
      ]
    },
    {
      "cell_type": "code",
      "source": [
        "column_to_change= ['Price per Unit', 'Units Sold', 'Total Sales', 'Operating Profit']\n",
        "df_adidas2[column_to_change]=df_adidas2[column_to_change].astype('int64')"
      ],
      "metadata": {
        "id": "3Jxah2xbLzIR"
      },
      "execution_count": null,
      "outputs": []
    },
    {
      "cell_type": "code",
      "source": [
        "print(df_adidas2['Retailer'].unique())\n",
        "print(df_adidas2['Sales Method'].unique())\n",
        "print(df_adidas2['Product'].unique())"
      ],
      "metadata": {
        "id": "4eGd6ZCRNaTr",
        "colab": {
          "base_uri": "https://localhost:8080/"
        },
        "outputId": "0ef962e8-dd87-4ec2-d02e-9b7480410929"
      },
      "execution_count": null,
      "outputs": [
        {
          "output_type": "stream",
          "name": "stdout",
          "text": [
            "['Foot Locker' 'Walmart' 'Sports Direct' 'West Gear' \"Kohl's\" 'Amazon']\n",
            "['In-store' 'Outlet' 'Online']\n",
            "[\"Men's Street Footwear\" \"Men's Athletic Footwear\"\n",
            " \"Women's Street Footwear\" \"Women's Athletic Footwear\" \"Men's Apparel\"\n",
            " \"Women's Apparel\"]\n"
          ]
        }
      ]
    },
    {
      "cell_type": "code",
      "source": [
        "column_to_change2=['Retailer', 'Sales Method', 'Product']\n",
        "df_adidas2[column_to_change2]=df_adidas2[column_to_change2].astype('category')"
      ],
      "metadata": {
        "id": "c31BxSdEOHyX"
      },
      "execution_count": null,
      "outputs": []
    },
    {
      "cell_type": "code",
      "source": [
        "df_adidas2['Invoice Date'] = pd.to_datetime(df_adidas2['Invoice Date'], format='%m/%d/%Y')"
      ],
      "metadata": {
        "id": "zOs6JdFfOjLu"
      },
      "execution_count": null,
      "outputs": []
    },
    {
      "cell_type": "code",
      "source": [
        "df_adidas2.isna().sum()"
      ],
      "metadata": {
        "id": "9CwbI0C4IzwB",
        "colab": {
          "base_uri": "https://localhost:8080/"
        },
        "outputId": "f531419a-5340-4b42-b9ad-8e6c9f5d7e90"
      },
      "execution_count": null,
      "outputs": [
        {
          "output_type": "execute_result",
          "data": {
            "text/plain": [
              "Retailer            0\n",
              "Retailer ID         0\n",
              "Invoice Date        0\n",
              "Region              0\n",
              "State               0\n",
              "City                0\n",
              "Product             0\n",
              "Price per Unit      0\n",
              "Units Sold          0\n",
              "Total Sales         0\n",
              "Operating Profit    0\n",
              "Operating Margin    0\n",
              "Sales Method        0\n",
              "dtype: int64"
            ]
          },
          "metadata": {},
          "execution_count": 14
        }
      ]
    },
    {
      "cell_type": "markdown",
      "source": [
        "**EXPLORATORY DATA ANALYSIS (EDA)**"
      ],
      "metadata": {
        "id": "HEia5FvVQUmN"
      }
    },
    {
      "cell_type": "markdown",
      "source": [
        "# Business Question: Produk sepatu Apa yang paling diminati?"
      ],
      "metadata": {
        "id": "akR3HI6QQdqE"
      }
    },
    {
      "cell_type": "code",
      "source": [
        "df_adidas2.pivot_table(index= 'Product',\n",
        "                       values='Units Sold',\n",
        "                       aggfunc= 'sum').sort_values(by= 'Units Sold', ascending= False)"
      ],
      "metadata": {
        "colab": {
          "base_uri": "https://localhost:8080/",
          "height": 269
        },
        "id": "J04507SqqXYR",
        "outputId": "732957da-9646-4e35-b41a-0fde631505dd"
      },
      "execution_count": null,
      "outputs": [
        {
          "output_type": "execute_result",
          "data": {
            "text/plain": [
              "                           Units Sold\n",
              "Product                              \n",
              "Men's Street Footwear          593320\n",
              "Men's Athletic Footwear        435526\n",
              "Women's Apparel                433827\n",
              "Women's Street Footwear        392269\n",
              "Women's Athletic Footwear      317236\n",
              "Men's Apparel                  306683"
            ],
            "text/html": [
              "\n",
              "  <div id=\"df-62479a65-33b3-4ce5-8584-b0cab5ce1e00\">\n",
              "    <div class=\"colab-df-container\">\n",
              "      <div>\n",
              "<style scoped>\n",
              "    .dataframe tbody tr th:only-of-type {\n",
              "        vertical-align: middle;\n",
              "    }\n",
              "\n",
              "    .dataframe tbody tr th {\n",
              "        vertical-align: top;\n",
              "    }\n",
              "\n",
              "    .dataframe thead th {\n",
              "        text-align: right;\n",
              "    }\n",
              "</style>\n",
              "<table border=\"1\" class=\"dataframe\">\n",
              "  <thead>\n",
              "    <tr style=\"text-align: right;\">\n",
              "      <th></th>\n",
              "      <th>Units Sold</th>\n",
              "    </tr>\n",
              "    <tr>\n",
              "      <th>Product</th>\n",
              "      <th></th>\n",
              "    </tr>\n",
              "  </thead>\n",
              "  <tbody>\n",
              "    <tr>\n",
              "      <th>Men's Street Footwear</th>\n",
              "      <td>593320</td>\n",
              "    </tr>\n",
              "    <tr>\n",
              "      <th>Men's Athletic Footwear</th>\n",
              "      <td>435526</td>\n",
              "    </tr>\n",
              "    <tr>\n",
              "      <th>Women's Apparel</th>\n",
              "      <td>433827</td>\n",
              "    </tr>\n",
              "    <tr>\n",
              "      <th>Women's Street Footwear</th>\n",
              "      <td>392269</td>\n",
              "    </tr>\n",
              "    <tr>\n",
              "      <th>Women's Athletic Footwear</th>\n",
              "      <td>317236</td>\n",
              "    </tr>\n",
              "    <tr>\n",
              "      <th>Men's Apparel</th>\n",
              "      <td>306683</td>\n",
              "    </tr>\n",
              "  </tbody>\n",
              "</table>\n",
              "</div>\n",
              "      <button class=\"colab-df-convert\" onclick=\"convertToInteractive('df-62479a65-33b3-4ce5-8584-b0cab5ce1e00')\"\n",
              "              title=\"Convert this dataframe to an interactive table.\"\n",
              "              style=\"display:none;\">\n",
              "        \n",
              "  <svg xmlns=\"http://www.w3.org/2000/svg\" height=\"24px\"viewBox=\"0 0 24 24\"\n",
              "       width=\"24px\">\n",
              "    <path d=\"M0 0h24v24H0V0z\" fill=\"none\"/>\n",
              "    <path d=\"M18.56 5.44l.94 2.06.94-2.06 2.06-.94-2.06-.94-.94-2.06-.94 2.06-2.06.94zm-11 1L8.5 8.5l.94-2.06 2.06-.94-2.06-.94L8.5 2.5l-.94 2.06-2.06.94zm10 10l.94 2.06.94-2.06 2.06-.94-2.06-.94-.94-2.06-.94 2.06-2.06.94z\"/><path d=\"M17.41 7.96l-1.37-1.37c-.4-.4-.92-.59-1.43-.59-.52 0-1.04.2-1.43.59L10.3 9.45l-7.72 7.72c-.78.78-.78 2.05 0 2.83L4 21.41c.39.39.9.59 1.41.59.51 0 1.02-.2 1.41-.59l7.78-7.78 2.81-2.81c.8-.78.8-2.07 0-2.86zM5.41 20L4 18.59l7.72-7.72 1.47 1.35L5.41 20z\"/>\n",
              "  </svg>\n",
              "      </button>\n",
              "      \n",
              "  <style>\n",
              "    .colab-df-container {\n",
              "      display:flex;\n",
              "      flex-wrap:wrap;\n",
              "      gap: 12px;\n",
              "    }\n",
              "\n",
              "    .colab-df-convert {\n",
              "      background-color: #E8F0FE;\n",
              "      border: none;\n",
              "      border-radius: 50%;\n",
              "      cursor: pointer;\n",
              "      display: none;\n",
              "      fill: #1967D2;\n",
              "      height: 32px;\n",
              "      padding: 0 0 0 0;\n",
              "      width: 32px;\n",
              "    }\n",
              "\n",
              "    .colab-df-convert:hover {\n",
              "      background-color: #E2EBFA;\n",
              "      box-shadow: 0px 1px 2px rgba(60, 64, 67, 0.3), 0px 1px 3px 1px rgba(60, 64, 67, 0.15);\n",
              "      fill: #174EA6;\n",
              "    }\n",
              "\n",
              "    [theme=dark] .colab-df-convert {\n",
              "      background-color: #3B4455;\n",
              "      fill: #D2E3FC;\n",
              "    }\n",
              "\n",
              "    [theme=dark] .colab-df-convert:hover {\n",
              "      background-color: #434B5C;\n",
              "      box-shadow: 0px 1px 3px 1px rgba(0, 0, 0, 0.15);\n",
              "      filter: drop-shadow(0px 1px 2px rgba(0, 0, 0, 0.3));\n",
              "      fill: #FFFFFF;\n",
              "    }\n",
              "  </style>\n",
              "\n",
              "      <script>\n",
              "        const buttonEl =\n",
              "          document.querySelector('#df-62479a65-33b3-4ce5-8584-b0cab5ce1e00 button.colab-df-convert');\n",
              "        buttonEl.style.display =\n",
              "          google.colab.kernel.accessAllowed ? 'block' : 'none';\n",
              "\n",
              "        async function convertToInteractive(key) {\n",
              "          const element = document.querySelector('#df-62479a65-33b3-4ce5-8584-b0cab5ce1e00');\n",
              "          const dataTable =\n",
              "            await google.colab.kernel.invokeFunction('convertToInteractive',\n",
              "                                                     [key], {});\n",
              "          if (!dataTable) return;\n",
              "\n",
              "          const docLinkHtml = 'Like what you see? Visit the ' +\n",
              "            '<a target=\"_blank\" href=https://colab.research.google.com/notebooks/data_table.ipynb>data table notebook</a>'\n",
              "            + ' to learn more about interactive tables.';\n",
              "          element.innerHTML = '';\n",
              "          dataTable['output_type'] = 'display_data';\n",
              "          await google.colab.output.renderOutput(dataTable, element);\n",
              "          const docLink = document.createElement('div');\n",
              "          docLink.innerHTML = docLinkHtml;\n",
              "          element.appendChild(docLink);\n",
              "        }\n",
              "      </script>\n",
              "    </div>\n",
              "  </div>\n",
              "  "
            ]
          },
          "metadata": {},
          "execution_count": 15
        }
      ]
    },
    {
      "cell_type": "code",
      "source": [
        "#Identify product that the people commonly purchased/like\n",
        "best_selling_product=df_adidas2.pivot_table(index= 'Product',\n",
        "                       values='Units Sold',\n",
        "                       aggfunc= 'sum').sort_values(by= 'Units Sold', ascending= False).plot.bar()\n",
        "best_selling_product\n",
        "#plt.savefig('/content/drive/MyDrive/Algoritma_Project/bar chart product.png')"
      ],
      "metadata": {
        "id": "e_VJVmg1QpOg",
        "colab": {
          "base_uri": "https://localhost:8080/",
          "height": 642
        },
        "outputId": "8fc61786-a18b-47d9-eee7-b15839f3e1d8"
      },
      "execution_count": null,
      "outputs": [
        {
          "output_type": "execute_result",
          "data": {
            "text/plain": [
              "<Axes: xlabel='Product'>"
            ]
          },
          "metadata": {},
          "execution_count": 16
        },
        {
          "output_type": "display_data",
          "data": {
            "text/plain": [
              "<Figure size 640x480 with 1 Axes>"
            ],
            "image/png": "[encoded data removed]"
          },
          "metadata": {}
        }
      ]
    },
    {
      "cell_type": "code",
      "source": [
        "import matplotlib.pyplot as plt\n"
      ],
      "metadata": {
        "id": "7swzXGL8agLF"
      },
      "execution_count": null,
      "outputs": []
    },
    {
      "cell_type": "code",
      "source": [
        "df_adidas2['Total Sales'].sum()"
      ],
      "metadata": {
        "colab": {
          "base_uri": "https://localhost:8080/"
        },
        "id": "9KjiFZTWr_L7",
        "outputId": "f01e4846-e691-4a2f-b962-5c10b3a1a7af"
      },
      "execution_count": null,
      "outputs": [
        {
          "output_type": "execute_result",
          "data": {
            "text/plain": [
              "899902125"
            ]
          },
          "metadata": {},
          "execution_count": 18
        }
      ]
    },
    {
      "cell_type": "code",
      "source": [
        "#Aggregation table to determine total sales for each product\n",
        "total_revenue_by_product= df_adidas2.pivot_table(index= 'Product',\n",
        "                                                 values='Total Sales',\n",
        "                                                 aggfunc='sum').sort_values(by= 'Total Sales', ascending=False).reset_index()\n",
        "#create bar plot\n",
        "X= total_revenue_by_product['Product']\n",
        "Y= total_revenue_by_product['Total Sales']\n",
        "Colors= ['red', 'green', 'yellow', 'blue', 'grey', 'black']\n",
        "plt.bar(X, Y, color= Colors)\n",
        "plt.xticks(rotation=90)\n",
        "plt.show()\n",
        "plt.savefig('/content/drive/MyDrive/Algoritma_Project/bar chart revenue.png')"
      ],
      "metadata": {
        "id": "zGyhmQb8Y2Wa",
        "colab": {
          "base_uri": "https://localhost:8080/",
          "height": 637
        },
        "outputId": "1c39a4ab-708c-4d33-f7c1-220dd44a46ad"
      },
      "execution_count": null,
      "outputs": [
        {
          "output_type": "display_data",
          "data": {
            "text/plain": [
              "<Figure size 640x480 with 1 Axes>"
            ],
            "image/png": "[encoded data removed]"
          },
          "metadata": {}
        },
        {
          "output_type": "display_data",
          "data": {
            "text/plain": [
              "<Figure size 640x480 with 0 Axes>"
            ]
          },
          "metadata": {}
        }
      ]
    },
    {
      "cell_type": "code",
      "source": [
        "#Identify highest number of retailers\n",
        "df_adidas2.groupby('Retailer').agg({'Units Sold': 'sum'}).sort_values(by='Units Sold', ascending=False).plot.bar()\n"
      ],
      "metadata": {
        "colab": {
          "base_uri": "https://localhost:8080/",
          "height": 543
        },
        "id": "FTH7BloVcM9e",
        "outputId": "e97a0bc4-f28a-4c23-a859-f1e4fc7282b9"
      },
      "execution_count": null,
      "outputs": [
        {
          "output_type": "execute_result",
          "data": {
            "text/plain": [
              "<Axes: xlabel='Retailer'>"
            ]
          },
          "metadata": {},
          "execution_count": 20
        },
        {
          "output_type": "display_data",
          "data": {
            "text/plain": [
              "<Figure size 640x480 with 1 Axes>"
            ],
            "image/png": "[encoded data removed]"
          },
          "metadata": {}
        }
      ]
    },
    {
      "cell_type": "code",
      "source": [
        "#Identify hom many products are sold in each retailer\n",
        "df_adidas2.groupby(['Retailer', 'Product']).agg({'Units Sold':'sum'}).unstack().plot.bar()\n",
        "plt.savefig('/content/drive/MyDrive/Algoritma_Project/retalier2.png')"
      ],
      "metadata": {
        "colab": {
          "base_uri": "https://localhost:8080/",
          "height": 526
        },
        "id": "O81t5h0VcfOH",
        "outputId": "f29e463e-a1a1-4243-ae34-44341616d3e6"
      },
      "execution_count": null,
      "outputs": [
        {
          "output_type": "display_data",
          "data": {
            "text/plain": [
              "<Figure size 640x480 with 1 Axes>"
            ],
            "image/png": "[encoded data removed]"
          },
          "metadata": {}
        }
      ]
    },
    {
      "cell_type": "code",
      "source": [
        "#This is to identify highest number of product sold in each retailer\n",
        "df_adidas2.pivot_table(index= 'Product',\n",
        "                      columns='Retailer',\n",
        "                      values='Units Sold',\n",
        "                      aggfunc='sum').plot.bar()\n",
        "plt.savefig('/content/drive/MyDrive/Algoritma_Project/product2.png')\n",
        "\n"
      ],
      "metadata": {
        "id": "xYUL_va1crYX",
        "colab": {
          "base_uri": "https://localhost:8080/",
          "height": 625
        },
        "outputId": "cb3698f3-5d2d-4b19-b2f4-4855572e4447"
      },
      "execution_count": null,
      "outputs": [
        {
          "output_type": "display_data",
          "data": {
            "text/plain": [
              "<Figure size 640x480 with 1 Axes>"
            ],
            "image/png": "[encoded data removed]"
          },
          "metadata": {}
        }
      ]
    },
    {
      "cell_type": "code",
      "source": [
        "df_adidas3=df_adidas2.copy()"
      ],
      "metadata": {
        "id": "Dp6lqBeysTmz"
      },
      "execution_count": null,
      "outputs": []
    },
    {
      "cell_type": "code",
      "source": [
        "#Extract month from invoice date\n",
        "df_adidas3['Month']=df_adidas3['Invoice Date'].dt.month"
      ],
      "metadata": {
        "id": "7dSAn895seLc"
      },
      "execution_count": null,
      "outputs": []
    },
    {
      "cell_type": "code",
      "source": [
        "df_adidas3['Year']=df_adidas3['Invoice Date'].dt.year\n",
        "df_adidas3.head()"
      ],
      "metadata": {
        "id": "OWUMsK04tA3j",
        "colab": {
          "base_uri": "https://localhost:8080/",
          "height": 389
        },
        "outputId": "37aa52fe-b028-410c-f0e6-218944ad12b9"
      },
      "execution_count": null,
      "outputs": [
        {
          "output_type": "execute_result",
          "data": {
            "text/plain": [
              "      Retailer  Retailer ID Invoice Date     Region     State      City  \\\n",
              "0  Foot Locker      1185732   2020-01-01  Northeast  New York  New York   \n",
              "1  Foot Locker      1185732   2020-01-02  Northeast  New York  New York   \n",
              "2  Foot Locker      1185732   2020-01-03  Northeast  New York  New York   \n",
              "3  Foot Locker      1185732   2020-01-04  Northeast  New York  New York   \n",
              "4  Foot Locker      1185732   2020-01-05  Northeast  New York  New York   \n",
              "\n",
              "                     Product  Price per Unit  Units Sold  Total Sales  \\\n",
              "0      Men's Street Footwear              50        1200       600000   \n",
              "1    Men's Athletic Footwear              50        1000       500000   \n",
              "2    Women's Street Footwear              40        1000       400000   \n",
              "3  Women's Athletic Footwear              45         850       382500   \n",
              "4              Men's Apparel              60         900       540000   \n",
              "\n",
              "   Operating Profit Operating Margin Sales Method  Month  Year  \n",
              "0            300000              50%     In-store      1  2020  \n",
              "1            150000              30%     In-store      1  2020  \n",
              "2            140000              35%     In-store      1  2020  \n",
              "3            133875              35%     In-store      1  2020  \n",
              "4            162000              30%     In-store      1  2020  "
            ],
            "text/html": [
              "\n",
              "  <div id=\"df-00c5dd1e-900d-479f-8027-7efaae729596\">\n",
              "    <div class=\"colab-df-container\">\n",
              "      <div>\n",
              "<style scoped>\n",
              "    .dataframe tbody tr th:only-of-type {\n",
              "        vertical-align: middle;\n",
              "    }\n",
              "\n",
              "    .dataframe tbody tr th {\n",
              "        vertical-align: top;\n",
              "    }\n",
              "\n",
              "    .dataframe thead th {\n",
              "        text-align: right;\n",
              "    }\n",
              "</style>\n",
              "<table border=\"1\" class=\"dataframe\">\n",
              "  <thead>\n",
              "    <tr style=\"text-align: right;\">\n",
              "      <th></th>\n",
              "      <th>Retailer</th>\n",
              "      <th>Retailer ID</th>\n",
              "      <th>Invoice Date</th>\n",
              "      <th>Region</th>\n",
              "      <th>State</th>\n",
              "      <th>City</th>\n",
              "      <th>Product</th>\n",
              "      <th>Price per Unit</th>\n",
              "      <th>Units Sold</th>\n",
              "      <th>Total Sales</th>\n",
              "      <th>Operating Profit</th>\n",
              "      <th>Operating Margin</th>\n",
              "      <th>Sales Method</th>\n",
              "      <th>Month</th>\n",
              "      <th>Year</th>\n",
              "    </tr>\n",
              "  </thead>\n",
              "  <tbody>\n",
              "    <tr>\n",
              "      <th>0</th>\n",
              "      <td>Foot Locker</td>\n",
              "      <td>1185732</td>\n",
              "      <td>2020-01-01</td>\n",
              "      <td>Northeast</td>\n",
              "      <td>New York</td>\n",
              "      <td>New York</td>\n",
              "      <td>Men's Street Footwear</td>\n",
              "      <td>50</td>\n",
              "      <td>1200</td>\n",
              "      <td>600000</td>\n",
              "      <td>300000</td>\n",
              "      <td>50%</td>\n",
              "      <td>In-store</td>\n",
              "      <td>1</td>\n",
              "      <td>2020</td>\n",
              "    </tr>\n",
              "    <tr>\n",
              "      <th>1</th>\n",
              "      <td>Foot Locker</td>\n",
              "      <td>1185732</td>\n",
              "      <td>2020-01-02</td>\n",
              "      <td>Northeast</td>\n",
              "      <td>New York</td>\n",
              "      <td>New York</td>\n",
              "      <td>Men's Athletic Footwear</td>\n",
              "      <td>50</td>\n",
              "      <td>1000</td>\n",
              "      <td>500000</td>\n",
              "      <td>150000</td>\n",
              "      <td>30%</td>\n",
              "      <td>In-store</td>\n",
              "      <td>1</td>\n",
              "      <td>2020</td>\n",
              "    </tr>\n",
              "    <tr>\n",
              "      <th>2</th>\n",
              "      <td>Foot Locker</td>\n",
              "      <td>1185732</td>\n",
              "      <td>2020-01-03</td>\n",
              "      <td>Northeast</td>\n",
              "      <td>New York</td>\n",
              "      <td>New York</td>\n",
              "      <td>Women's Street Footwear</td>\n",
              "      <td>40</td>\n",
              "      <td>1000</td>\n",
              "      <td>400000</td>\n",
              "      <td>140000</td>\n",
              "      <td>35%</td>\n",
              "      <td>In-store</td>\n",
              "      <td>1</td>\n",
              "      <td>2020</td>\n",
              "    </tr>\n",
              "    <tr>\n",
              "      <th>3</th>\n",
              "      <td>Foot Locker</td>\n",
              "      <td>1185732</td>\n",
              "      <td>2020-01-04</td>\n",
              "      <td>Northeast</td>\n",
              "      <td>New York</td>\n",
              "      <td>New York</td>\n",
              "      <td>Women's Athletic Footwear</td>\n",
              "      <td>45</td>\n",
              "      <td>850</td>\n",
              "      <td>382500</td>\n",
              "      <td>133875</td>\n",
              "      <td>35%</td>\n",
              "      <td>In-store</td>\n",
              "      <td>1</td>\n",
              "      <td>2020</td>\n",
              "    </tr>\n",
              "    <tr>\n",
              "      <th>4</th>\n",
              "      <td>Foot Locker</td>\n",
              "      <td>1185732</td>\n",
              "      <td>2020-01-05</td>\n",
              "      <td>Northeast</td>\n",
              "      <td>New York</td>\n",
              "      <td>New York</td>\n",
              "      <td>Men's Apparel</td>\n",
              "      <td>60</td>\n",
              "      <td>900</td>\n",
              "      <td>540000</td>\n",
              "      <td>162000</td>\n",
              "      <td>30%</td>\n",
              "      <td>In-store</td>\n",
              "      <td>1</td>\n",
              "      <td>2020</td>\n",
              "    </tr>\n",
              "  </tbody>\n",
              "</table>\n",
              "</div>\n",
              "      <button class=\"colab-df-convert\" onclick=\"convertToInteractive('df-00c5dd1e-900d-479f-8027-7efaae729596')\"\n",
              "              title=\"Convert this dataframe to an interactive table.\"\n",
              "              style=\"display:none;\">\n",
              "        \n",
              "  <svg xmlns=\"http://www.w3.org/2000/svg\" height=\"24px\"viewBox=\"0 0 24 24\"\n",
              "       width=\"24px\">\n",
              "    <path d=\"M0 0h24v24H0V0z\" fill=\"none\"/>\n",
              "    <path d=\"M18.56 5.44l.94 2.06.94-2.06 2.06-.94-2.06-.94-.94-2.06-.94 2.06-2.06.94zm-11 1L8.5 8.5l.94-2.06 2.06-.94-2.06-.94L8.5 2.5l-.94 2.06-2.06.94zm10 10l.94 2.06.94-2.06 2.06-.94-2.06-.94-.94-2.06-.94 2.06-2.06.94z\"/><path d=\"M17.41 7.96l-1.37-1.37c-.4-.4-.92-.59-1.43-.59-.52 0-1.04.2-1.43.59L10.3 9.45l-7.72 7.72c-.78.78-.78 2.05 0 2.83L4 21.41c.39.39.9.59 1.41.59.51 0 1.02-.2 1.41-.59l7.78-7.78 2.81-2.81c.8-.78.8-2.07 0-2.86zM5.41 20L4 18.59l7.72-7.72 1.47 1.35L5.41 20z\"/>\n",
              "  </svg>\n",
              "      </button>\n",
              "      \n",
              "  <style>\n",
              "    .colab-df-container {\n",
              "      display:flex;\n",
              "      flex-wrap:wrap;\n",
              "      gap: 12px;\n",
              "    }\n",
              "\n",
              "    .colab-df-convert {\n",
              "      background-color: #E8F0FE;\n",
              "      border: none;\n",
              "      border-radius: 50%;\n",
              "      cursor: pointer;\n",
              "      display: none;\n",
              "      fill: #1967D2;\n",
              "      height: 32px;\n",
              "      padding: 0 0 0 0;\n",
              "      width: 32px;\n",
              "    }\n",
              "\n",
              "    .colab-df-convert:hover {\n",
              "      background-color: #E2EBFA;\n",
              "      box-shadow: 0px 1px 2px rgba(60, 64, 67, 0.3), 0px 1px 3px 1px rgba(60, 64, 67, 0.15);\n",
              "      fill: #174EA6;\n",
              "    }\n",
              "\n",
              "    [theme=dark] .colab-df-convert {\n",
              "      background-color: #3B4455;\n",
              "      fill: #D2E3FC;\n",
              "    }\n",
              "\n",
              "    [theme=dark] .colab-df-convert:hover {\n",
              "      background-color: #434B5C;\n",
              "      box-shadow: 0px 1px 3px 1px rgba(0, 0, 0, 0.15);\n",
              "      filter: drop-shadow(0px 1px 2px rgba(0, 0, 0, 0.3));\n",
              "      fill: #FFFFFF;\n",
              "    }\n",
              "  </style>\n",
              "\n",
              "      <script>\n",
              "        const buttonEl =\n",
              "          document.querySelector('#df-00c5dd1e-900d-479f-8027-7efaae729596 button.colab-df-convert');\n",
              "        buttonEl.style.display =\n",
              "          google.colab.kernel.accessAllowed ? 'block' : 'none';\n",
              "\n",
              "        async function convertToInteractive(key) {\n",
              "          const element = document.querySelector('#df-00c5dd1e-900d-479f-8027-7efaae729596');\n",
              "          const dataTable =\n",
              "            await google.colab.kernel.invokeFunction('convertToInteractive',\n",
              "                                                     [key], {});\n",
              "          if (!dataTable) return;\n",
              "\n",
              "          const docLinkHtml = 'Like what you see? Visit the ' +\n",
              "            '<a target=\"_blank\" href=https://colab.research.google.com/notebooks/data_table.ipynb>data table notebook</a>'\n",
              "            + ' to learn more about interactive tables.';\n",
              "          element.innerHTML = '';\n",
              "          dataTable['output_type'] = 'display_data';\n",
              "          await google.colab.output.renderOutput(dataTable, element);\n",
              "          const docLink = document.createElement('div');\n",
              "          docLink.innerHTML = docLinkHtml;\n",
              "          element.appendChild(docLink);\n",
              "        }\n",
              "      </script>\n",
              "    </div>\n",
              "  </div>\n",
              "  "
            ]
          },
          "metadata": {},
          "execution_count": 25
        }
      ]
    },
    {
      "cell_type": "code",
      "source": [
        "#Identify Sales Trend per month in 2020 and 2021 for looking up the pattern\n",
        "line_chart=df_adidas3.pivot_table(index='Month',\n",
        "                                  columns='Year',\n",
        "                                  values='Units Sold',\n",
        "                                  aggfunc='sum')\n",
        "colors= ['pink', 'purple']\n",
        "line_chart.plot(kind='line', marker='o', color=colors)\n",
        "plt.xlabel('Month')\n",
        "plt.ylabel('Units Sold')\n",
        "plt.title('Units Sold by Month')\n",
        "plt.legend()\n",
        "plt.show()\n",
        "plt.savefig('/content/drive/MyDrive/Algoritma_Project/line1.png')"
      ],
      "metadata": {
        "id": "sWQkfUfCtcuL",
        "colab": {
          "base_uri": "https://localhost:8080/",
          "height": 489
        },
        "outputId": "515cf3cb-d961-42b9-ea6a-1220b714fa27"
      },
      "execution_count": null,
      "outputs": [
        {
          "output_type": "display_data",
          "data": {
            "text/plain": [
              "<Figure size 640x480 with 1 Axes>"
            ],
            "image/png": "[encoded data removed]"
          },
          "metadata": {}
        },
        {
          "output_type": "display_data",
          "data": {
            "text/plain": [
              "<Figure size 640x480 with 0 Axes>"
            ]
          },
          "metadata": {}
        }
      ]
    },
    {
      "cell_type": "code",
      "source": [
        "#Identify product's trend sold in each month\n",
        "df_adidas3.groupby(['Month', 'Product']).agg({'Units Sold':'sum'}).unstack().plot(kind='line');\n",
        "plt.savefig('/content/drive/MyDrive/Algoritma_Project/line2.png')"
      ],
      "metadata": {
        "colab": {
          "base_uri": "https://localhost:8080/",
          "height": 449
        },
        "id": "Tx8U5Bfki6Ia",
        "outputId": "b0cf99c7-f6f5-4a27-c215-2e7834f094a2"
      },
      "execution_count": null,
      "outputs": [
        {
          "output_type": "display_data",
          "data": {
            "text/plain": [
              "<Figure size 640x480 with 1 Axes>"
            ],
            "image/png": "[encoded data removed]"
          },
          "metadata": {}
        }
      ]
    },
    {
      "cell_type": "code",
      "source": [
        "#Identify avarage price per unit for each product\n",
        "df_adidas3.pivot_table(index='Product',\n",
        "                       values='Price per Unit',\n",
        "                       aggfunc='mean').sort_values(by='Price per Unit', ascending=True).plot.bar()\n",
        "plt.savefig('/content/drive/MyDrive/Algoritma_Project/bar.png')"
      ],
      "metadata": {
        "colab": {
          "base_uri": "https://localhost:8080/",
          "height": 625
        },
        "id": "Vqojh3rRvKQ0",
        "outputId": "aaf0fa56-a8a1-4f56-a496-0b863eafa40d"
      },
      "execution_count": null,
      "outputs": [
        {
          "output_type": "display_data",
          "data": {
            "text/plain": [
              "<Figure size 640x480 with 1 Axes>"
            ],
            "image/png": "[encoded data removed]"
          },
          "metadata": {}
        }
      ]
    },
    {
      "cell_type": "markdown",
      "source": [
        "# Insights & Recommendations"
      ],
      "metadata": {
        "id": "-QrFh9osoE8O"
      }
    },
    {
      "cell_type": "markdown",
      "source": [
        "Insight:\n",
        "\n",
        "\n",
        "\n",
        "\n",
        "1.   Men's Street Footwear is the top-selling and most popular product.\n",
        "2. Foot Looker and West Gear emerge as the leading retailers, boasting the highest sales numbers for these products.\n",
        "3. Foot Looker and West Gear excel in selling Men's Street Footwear, Women's Apparel, and Men's Athletic Footwear, which are the products with the highest sales figures.\n",
        "4. The sales pattern throughout 2020 and 2021 exhibits a similar trend, with the peak in total product sales occurring in August and the lowest in June and March for 2020 and 2021 respectively.\n",
        "5. Men's Street Footwear generates the highest total revenue compared to all other products. Conversely, Women's Street Footwear, despite being the fifth favorite product when compared to Men's Apparel, generates the lowest revenue. This discrepancy arises from the fact that the average unit price for Women's Street Footwear is lower than that of Men's Apparel.\n",
        "\n",
        "\n",
        "\n",
        "\n",
        "\n",
        "\n"
      ],
      "metadata": {
        "id": "VGmVEkQqYyOs"
      }
    },
    {
      "cell_type": "markdown",
      "source": [
        "Recommendations:\n",
        "\n",
        "\n",
        "1. Ensure an Ample Supply of Men's Street Footwear:\n",
        "Take measures to significantly augment the inventory of Men's Street Footwear, catering to the growing demand for this product.\n",
        "2. Expand Product Availability at Foot Locker and West Gear:\n",
        "Implement strategies to enhance the stock availability of various items, particularly Men's Street Footwear, Women's Apparel, and Men's Athletic Footwear, at both Foot Locker and West Gear stores.\n",
        "3. Advocate Increased Promotional Initiatives for Specific Product Categories:\n",
        "Recommend that both retailers, Foot Locker and West Gear, intensify their promotional efforts to generate greater awareness and sales for Men's Street Footwear, Women's Apparel, and Men's Athletic Footwear.\n",
        "4. Proactively enhance stock levels across all product categories for the month of August.\n",
        "\n"
      ],
      "metadata": {
        "id": "ZE_znZ0sfTHM"
      }
    },
    {
      "cell_type": "markdown",
      "source": [
        "# Business Question: Berapa kisaran harga yang \"affordable\" bagi penduduk?"
      ],
      "metadata": {
        "id": "7g2-EUYApK9p"
      }
    },
    {
      "cell_type": "code",
      "source": [
        "df_adidas2.head()"
      ],
      "metadata": {
        "colab": {
          "base_uri": "https://localhost:8080/",
          "height": 354
        },
        "id": "SkOubwfzpQQ4",
        "outputId": "f876d621-8281-440c-b63d-b942769058a7"
      },
      "execution_count": null,
      "outputs": [
        {
          "output_type": "execute_result",
          "data": {
            "text/plain": [
              "      Retailer  Retailer ID Invoice Date     Region     State      City  \\\n",
              "0  Foot Locker      1185732   2020-01-01  Northeast  New York  New York   \n",
              "1  Foot Locker      1185732   2020-01-02  Northeast  New York  New York   \n",
              "2  Foot Locker      1185732   2020-01-03  Northeast  New York  New York   \n",
              "3  Foot Locker      1185732   2020-01-04  Northeast  New York  New York   \n",
              "4  Foot Locker      1185732   2020-01-05  Northeast  New York  New York   \n",
              "\n",
              "                     Product  Price per Unit  Units Sold  Total Sales  \\\n",
              "0      Men's Street Footwear              50        1200       600000   \n",
              "1    Men's Athletic Footwear              50        1000       500000   \n",
              "2    Women's Street Footwear              40        1000       400000   \n",
              "3  Women's Athletic Footwear              45         850       382500   \n",
              "4              Men's Apparel              60         900       540000   \n",
              "\n",
              "   Operating Profit Operating Margin Sales Method  \n",
              "0            300000              50%     In-store  \n",
              "1            150000              30%     In-store  \n",
              "2            140000              35%     In-store  \n",
              "3            133875              35%     In-store  \n",
              "4            162000              30%     In-store  "
            ],
            "text/html": [
              "\n",
              "  <div id=\"df-de9eb550-fb74-41f1-b7bd-8c19cd4f61fe\">\n",
              "    <div class=\"colab-df-container\">\n",
              "      <div>\n",
              "<style scoped>\n",
              "    .dataframe tbody tr th:only-of-type {\n",
              "        vertical-align: middle;\n",
              "    }\n",
              "\n",
              "    .dataframe tbody tr th {\n",
              "        vertical-align: top;\n",
              "    }\n",
              "\n",
              "    .dataframe thead th {\n",
              "        text-align: right;\n",
              "    }\n",
              "</style>\n",
              "<table border=\"1\" class=\"dataframe\">\n",
              "  <thead>\n",
              "    <tr style=\"text-align: right;\">\n",
              "      <th></th>\n",
              "      <th>Retailer</th>\n",
              "      <th>Retailer ID</th>\n",
              "      <th>Invoice Date</th>\n",
              "      <th>Region</th>\n",
              "      <th>State</th>\n",
              "      <th>City</th>\n",
              "      <th>Product</th>\n",
              "      <th>Price per Unit</th>\n",
              "      <th>Units Sold</th>\n",
              "      <th>Total Sales</th>\n",
              "      <th>Operating Profit</th>\n",
              "      <th>Operating Margin</th>\n",
              "      <th>Sales Method</th>\n",
              "    </tr>\n",
              "  </thead>\n",
              "  <tbody>\n",
              "    <tr>\n",
              "      <th>0</th>\n",
              "      <td>Foot Locker</td>\n",
              "      <td>1185732</td>\n",
              "      <td>2020-01-01</td>\n",
              "      <td>Northeast</td>\n",
              "      <td>New York</td>\n",
              "      <td>New York</td>\n",
              "      <td>Men's Street Footwear</td>\n",
              "      <td>50</td>\n",
              "      <td>1200</td>\n",
              "      <td>600000</td>\n",
              "      <td>300000</td>\n",
              "      <td>50%</td>\n",
              "      <td>In-store</td>\n",
              "    </tr>\n",
              "    <tr>\n",
              "      <th>1</th>\n",
              "      <td>Foot Locker</td>\n",
              "      <td>1185732</td>\n",
              "      <td>2020-01-02</td>\n",
              "      <td>Northeast</td>\n",
              "      <td>New York</td>\n",
              "      <td>New York</td>\n",
              "      <td>Men's Athletic Footwear</td>\n",
              "      <td>50</td>\n",
              "      <td>1000</td>\n",
              "      <td>500000</td>\n",
              "      <td>150000</td>\n",
              "      <td>30%</td>\n",
              "      <td>In-store</td>\n",
              "    </tr>\n",
              "    <tr>\n",
              "      <th>2</th>\n",
              "      <td>Foot Locker</td>\n",
              "      <td>1185732</td>\n",
              "      <td>2020-01-03</td>\n",
              "      <td>Northeast</td>\n",
              "      <td>New York</td>\n",
              "      <td>New York</td>\n",
              "      <td>Women's Street Footwear</td>\n",
              "      <td>40</td>\n",
              "      <td>1000</td>\n",
              "      <td>400000</td>\n",
              "      <td>140000</td>\n",
              "      <td>35%</td>\n",
              "      <td>In-store</td>\n",
              "    </tr>\n",
              "    <tr>\n",
              "      <th>3</th>\n",
              "      <td>Foot Locker</td>\n",
              "      <td>1185732</td>\n",
              "      <td>2020-01-04</td>\n",
              "      <td>Northeast</td>\n",
              "      <td>New York</td>\n",
              "      <td>New York</td>\n",
              "      <td>Women's Athletic Footwear</td>\n",
              "      <td>45</td>\n",
              "      <td>850</td>\n",
              "      <td>382500</td>\n",
              "      <td>133875</td>\n",
              "      <td>35%</td>\n",
              "      <td>In-store</td>\n",
              "    </tr>\n",
              "    <tr>\n",
              "      <th>4</th>\n",
              "      <td>Foot Locker</td>\n",
              "      <td>1185732</td>\n",
              "      <td>2020-01-05</td>\n",
              "      <td>Northeast</td>\n",
              "      <td>New York</td>\n",
              "      <td>New York</td>\n",
              "      <td>Men's Apparel</td>\n",
              "      <td>60</td>\n",
              "      <td>900</td>\n",
              "      <td>540000</td>\n",
              "      <td>162000</td>\n",
              "      <td>30%</td>\n",
              "      <td>In-store</td>\n",
              "    </tr>\n",
              "  </tbody>\n",
              "</table>\n",
              "</div>\n",
              "      <button class=\"colab-df-convert\" onclick=\"convertToInteractive('df-de9eb550-fb74-41f1-b7bd-8c19cd4f61fe')\"\n",
              "              title=\"Convert this dataframe to an interactive table.\"\n",
              "              style=\"display:none;\">\n",
              "        \n",
              "  <svg xmlns=\"http://www.w3.org/2000/svg\" height=\"24px\"viewBox=\"0 0 24 24\"\n",
              "       width=\"24px\">\n",
              "    <path d=\"M0 0h24v24H0V0z\" fill=\"none\"/>\n",
              "    <path d=\"M18.56 5.44l.94 2.06.94-2.06 2.06-.94-2.06-.94-.94-2.06-.94 2.06-2.06.94zm-11 1L8.5 8.5l.94-2.06 2.06-.94-2.06-.94L8.5 2.5l-.94 2.06-2.06.94zm10 10l.94 2.06.94-2.06 2.06-.94-2.06-.94-.94-2.06-.94 2.06-2.06.94z\"/><path d=\"M17.41 7.96l-1.37-1.37c-.4-.4-.92-.59-1.43-.59-.52 0-1.04.2-1.43.59L10.3 9.45l-7.72 7.72c-.78.78-.78 2.05 0 2.83L4 21.41c.39.39.9.59 1.41.59.51 0 1.02-.2 1.41-.59l7.78-7.78 2.81-2.81c.8-.78.8-2.07 0-2.86zM5.41 20L4 18.59l7.72-7.72 1.47 1.35L5.41 20z\"/>\n",
              "  </svg>\n",
              "      </button>\n",
              "      \n",
              "  <style>\n",
              "    .colab-df-container {\n",
              "      display:flex;\n",
              "      flex-wrap:wrap;\n",
              "      gap: 12px;\n",
              "    }\n",
              "\n",
              "    .colab-df-convert {\n",
              "      background-color: #E8F0FE;\n",
              "      border: none;\n",
              "      border-radius: 50%;\n",
              "      cursor: pointer;\n",
              "      display: none;\n",
              "      fill: #1967D2;\n",
              "      height: 32px;\n",
              "      padding: 0 0 0 0;\n",
              "      width: 32px;\n",
              "    }\n",
              "\n",
              "    .colab-df-convert:hover {\n",
              "      background-color: #E2EBFA;\n",
              "      box-shadow: 0px 1px 2px rgba(60, 64, 67, 0.3), 0px 1px 3px 1px rgba(60, 64, 67, 0.15);\n",
              "      fill: #174EA6;\n",
              "    }\n",
              "\n",
              "    [theme=dark] .colab-df-convert {\n",
              "      background-color: #3B4455;\n",
              "      fill: #D2E3FC;\n",
              "    }\n",
              "\n",
              "    [theme=dark] .colab-df-convert:hover {\n",
              "      background-color: #434B5C;\n",
              "      box-shadow: 0px 1px 3px 1px rgba(0, 0, 0, 0.15);\n",
              "      filter: drop-shadow(0px 1px 2px rgba(0, 0, 0, 0.3));\n",
              "      fill: #FFFFFF;\n",
              "    }\n",
              "  </style>\n",
              "\n",
              "      <script>\n",
              "        const buttonEl =\n",
              "          document.querySelector('#df-de9eb550-fb74-41f1-b7bd-8c19cd4f61fe button.colab-df-convert');\n",
              "        buttonEl.style.display =\n",
              "          google.colab.kernel.accessAllowed ? 'block' : 'none';\n",
              "\n",
              "        async function convertToInteractive(key) {\n",
              "          const element = document.querySelector('#df-de9eb550-fb74-41f1-b7bd-8c19cd4f61fe');\n",
              "          const dataTable =\n",
              "            await google.colab.kernel.invokeFunction('convertToInteractive',\n",
              "                                                     [key], {});\n",
              "          if (!dataTable) return;\n",
              "\n",
              "          const docLinkHtml = 'Like what you see? Visit the ' +\n",
              "            '<a target=\"_blank\" href=https://colab.research.google.com/notebooks/data_table.ipynb>data table notebook</a>'\n",
              "            + ' to learn more about interactive tables.';\n",
              "          element.innerHTML = '';\n",
              "          dataTable['output_type'] = 'display_data';\n",
              "          await google.colab.output.renderOutput(dataTable, element);\n",
              "          const docLink = document.createElement('div');\n",
              "          docLink.innerHTML = docLinkHtml;\n",
              "          element.appendChild(docLink);\n",
              "        }\n",
              "      </script>\n",
              "    </div>\n",
              "  </div>\n",
              "  "
            ]
          },
          "metadata": {},
          "execution_count": 29
        }
      ]
    },
    {
      "cell_type": "code",
      "source": [
        "df_adidas2.info()"
      ],
      "metadata": {
        "colab": {
          "base_uri": "https://localhost:8080/"
        },
        "id": "X6tDYD9qpcxu",
        "outputId": "9f435011-2f5b-4ff0-81bc-4600863f2857"
      },
      "execution_count": null,
      "outputs": [
        {
          "output_type": "stream",
          "name": "stdout",
          "text": [
            "<class 'pandas.core.frame.DataFrame'>\n",
            "RangeIndex: 9648 entries, 0 to 9647\n",
            "Data columns (total 13 columns):\n",
            " #   Column            Non-Null Count  Dtype         \n",
            "---  ------            --------------  -----         \n",
            " 0   Retailer          9648 non-null   category      \n",
            " 1   Retailer ID       9648 non-null   int64         \n",
            " 2   Invoice Date      9648 non-null   datetime64[ns]\n",
            " 3   Region            9648 non-null   object        \n",
            " 4   State             9648 non-null   object        \n",
            " 5   City              9648 non-null   object        \n",
            " 6   Product           9648 non-null   category      \n",
            " 7   Price per Unit    9648 non-null   int64         \n",
            " 8   Units Sold        9648 non-null   int64         \n",
            " 9   Total Sales       9648 non-null   int64         \n",
            " 10  Operating Profit  9648 non-null   int64         \n",
            " 11  Operating Margin  9648 non-null   object        \n",
            " 12  Sales Method      9648 non-null   category      \n",
            "dtypes: category(3), datetime64[ns](1), int64(5), object(4)\n",
            "memory usage: 782.7+ KB\n"
          ]
        }
      ]
    },
    {
      "cell_type": "code",
      "source": [
        "df_adidas2['Price per Unit'].plot(kind='hist',bins=25,figsize=(10,7),title='Products price distribution')"
      ],
      "metadata": {
        "colab": {
          "base_uri": "https://localhost:8080/",
          "height": 639
        },
        "id": "SuyT-SaCp38x",
        "outputId": "36029c34-c708-4262-b0c7-4c0a92a56e46"
      },
      "execution_count": null,
      "outputs": [
        {
          "output_type": "execute_result",
          "data": {
            "text/plain": [
              "<Axes: title={'center': 'Products price distribution'}, ylabel='Frequency'>"
            ]
          },
          "metadata": {},
          "execution_count": 31
        },
        {
          "output_type": "display_data",
          "data": {
            "text/plain": [
              "<Figure size 1000x700 with 1 Axes>"
            ],
            "image/png": "[encoded data removed]"
          },
          "metadata": {}
        }
      ]
    },
    {
      "cell_type": "code",
      "source": [
        "df_adidas2['Price per Unit'].mean()"
      ],
      "metadata": {
        "colab": {
          "base_uri": "https://localhost:8080/"
        },
        "id": "JwMTn6Tpqrdj",
        "outputId": "91595844-4274-4786-acc1-1992cd71eb9b"
      },
      "execution_count": null,
      "outputs": [
        {
          "output_type": "execute_result",
          "data": {
            "text/plain": [
              "45.21662520729685"
            ]
          },
          "metadata": {},
          "execution_count": 32
        }
      ]
    },
    {
      "cell_type": "code",
      "source": [
        "top_salesmt= df_adidas2[['Sales Method','Total Sales']].groupby('Sales Method').sum()"
      ],
      "metadata": {
        "id": "3gOmOHqRsxej"
      },
      "execution_count": null,
      "outputs": []
    },
    {
      "cell_type": "code",
      "source": [
        "top_salesmt.plot(kind='barh',title='Top Selling Methods')"
      ],
      "metadata": {
        "colab": {
          "base_uri": "https://localhost:8080/",
          "height": 487
        },
        "id": "sAd626VbtFur",
        "outputId": "6b237248-053d-470b-af69-cb06cd7bd34d"
      },
      "execution_count": null,
      "outputs": [
        {
          "output_type": "execute_result",
          "data": {
            "text/plain": [
              "<Axes: title={'center': 'Top Selling Methods'}, ylabel='Sales Method'>"
            ]
          },
          "metadata": {},
          "execution_count": 34
        },
        {
          "output_type": "display_data",
          "data": {
            "text/plain": [
              "<Figure size 640x480 with 1 Axes>"
            ],
            "image/png": "[encoded data removed]"
          },
          "metadata": {}
        }
      ]
    },
    {
      "cell_type": "code",
      "source": [
        "pivot_table_product = df_adidas2.pivot_table(\n",
        "    index='Product',\n",
        "    columns='Region',\n",
        "    values='Price per Unit',\n",
        "    aggfunc='mean'\n",
        ")\n",
        "pivot_table_product"
      ],
      "metadata": {
        "colab": {
          "base_uri": "https://localhost:8080/",
          "height": 269
        },
        "id": "h8K-1rS2u6oT",
        "outputId": "eb208f48-39fe-4d59-a443-e3844e64322c"
      },
      "execution_count": null,
      "outputs": [
        {
          "output_type": "execute_result",
          "data": {
            "text/plain": [
              "Region                       Midwest  Northeast      South  Southeast  \\\n",
              "Product                                                                 \n",
              "Men's Apparel              47.144231  52.469697  42.798611  55.392157   \n",
              "Men's Athletic Footwear    38.137821  44.941919  36.590278  48.779412   \n",
              "Men's Street Footwear      41.810897  48.727273  35.263889  48.573529   \n",
              "Women's Apparel            47.455128  52.388889  43.538194  57.264706   \n",
              "Women's Athletic Footwear  34.544872  41.492424  36.635417  46.000000   \n",
              "Women's Street Footwear    33.080128  40.128788  34.593750  45.088235   \n",
              "\n",
              "Region                          West  \n",
              "Product                               \n",
              "Men's Apparel              53.458128  \n",
              "Men's Athletic Footwear    49.512195  \n",
              "Men's Street Footwear      45.890244  \n",
              "Women's Apparel            56.865196  \n",
              "Women's Athletic Footwear  46.509852  \n",
              "Women's Street Footwear    47.433824  "
            ],
            "text/html": [
              "\n",
              "  <div id=\"df-c0789c27-8df7-4b82-9026-30200513af4f\">\n",
              "    <div class=\"colab-df-container\">\n",
              "      <div>\n",
              "<style scoped>\n",
              "    .dataframe tbody tr th:only-of-type {\n",
              "        vertical-align: middle;\n",
              "    }\n",
              "\n",
              "    .dataframe tbody tr th {\n",
              "        vertical-align: top;\n",
              "    }\n",
              "\n",
              "    .dataframe thead th {\n",
              "        text-align: right;\n",
              "    }\n",
              "</style>\n",
              "<table border=\"1\" class=\"dataframe\">\n",
              "  <thead>\n",
              "    <tr style=\"text-align: right;\">\n",
              "      <th>Region</th>\n",
              "      <th>Midwest</th>\n",
              "      <th>Northeast</th>\n",
              "      <th>South</th>\n",
              "      <th>Southeast</th>\n",
              "      <th>West</th>\n",
              "    </tr>\n",
              "    <tr>\n",
              "      <th>Product</th>\n",
              "      <th></th>\n",
              "      <th></th>\n",
              "      <th></th>\n",
              "      <th></th>\n",
              "      <th></th>\n",
              "    </tr>\n",
              "  </thead>\n",
              "  <tbody>\n",
              "    <tr>\n",
              "      <th>Men's Apparel</th>\n",
              "      <td>47.144231</td>\n",
              "      <td>52.469697</td>\n",
              "      <td>42.798611</td>\n",
              "      <td>55.392157</td>\n",
              "      <td>53.458128</td>\n",
              "    </tr>\n",
              "    <tr>\n",
              "      <th>Men's Athletic Footwear</th>\n",
              "      <td>38.137821</td>\n",
              "      <td>44.941919</td>\n",
              "      <td>36.590278</td>\n",
              "      <td>48.779412</td>\n",
              "      <td>49.512195</td>\n",
              "    </tr>\n",
              "    <tr>\n",
              "      <th>Men's Street Footwear</th>\n",
              "      <td>41.810897</td>\n",
              "      <td>48.727273</td>\n",
              "      <td>35.263889</td>\n",
              "      <td>48.573529</td>\n",
              "      <td>45.890244</td>\n",
              "    </tr>\n",
              "    <tr>\n",
              "      <th>Women's Apparel</th>\n",
              "      <td>47.455128</td>\n",
              "      <td>52.388889</td>\n",
              "      <td>43.538194</td>\n",
              "      <td>57.264706</td>\n",
              "      <td>56.865196</td>\n",
              "    </tr>\n",
              "    <tr>\n",
              "      <th>Women's Athletic Footwear</th>\n",
              "      <td>34.544872</td>\n",
              "      <td>41.492424</td>\n",
              "      <td>36.635417</td>\n",
              "      <td>46.000000</td>\n",
              "      <td>46.509852</td>\n",
              "    </tr>\n",
              "    <tr>\n",
              "      <th>Women's Street Footwear</th>\n",
              "      <td>33.080128</td>\n",
              "      <td>40.128788</td>\n",
              "      <td>34.593750</td>\n",
              "      <td>45.088235</td>\n",
              "      <td>47.433824</td>\n",
              "    </tr>\n",
              "  </tbody>\n",
              "</table>\n",
              "</div>\n",
              "      <button class=\"colab-df-convert\" onclick=\"convertToInteractive('df-c0789c27-8df7-4b82-9026-30200513af4f')\"\n",
              "              title=\"Convert this dataframe to an interactive table.\"\n",
              "              style=\"display:none;\">\n",
              "        \n",
              "  <svg xmlns=\"http://www.w3.org/2000/svg\" height=\"24px\"viewBox=\"0 0 24 24\"\n",
              "       width=\"24px\">\n",
              "    <path d=\"M0 0h24v24H0V0z\" fill=\"none\"/>\n",
              "    <path d=\"M18.56 5.44l.94 2.06.94-2.06 2.06-.94-2.06-.94-.94-2.06-.94 2.06-2.06.94zm-11 1L8.5 8.5l.94-2.06 2.06-.94-2.06-.94L8.5 2.5l-.94 2.06-2.06.94zm10 10l.94 2.06.94-2.06 2.06-.94-2.06-.94-.94-2.06-.94 2.06-2.06.94z\"/><path d=\"M17.41 7.96l-1.37-1.37c-.4-.4-.92-.59-1.43-.59-.52 0-1.04.2-1.43.59L10.3 9.45l-7.72 7.72c-.78.78-.78 2.05 0 2.83L4 21.41c.39.39.9.59 1.41.59.51 0 1.02-.2 1.41-.59l7.78-7.78 2.81-2.81c.8-.78.8-2.07 0-2.86zM5.41 20L4 18.59l7.72-7.72 1.47 1.35L5.41 20z\"/>\n",
              "  </svg>\n",
              "      </button>\n",
              "      \n",
              "  <style>\n",
              "    .colab-df-container {\n",
              "      display:flex;\n",
              "      flex-wrap:wrap;\n",
              "      gap: 12px;\n",
              "    }\n",
              "\n",
              "    .colab-df-convert {\n",
              "      background-color: #E8F0FE;\n",
              "      border: none;\n",
              "      border-radius: 50%;\n",
              "      cursor: pointer;\n",
              "      display: none;\n",
              "      fill: #1967D2;\n",
              "      height: 32px;\n",
              "      padding: 0 0 0 0;\n",
              "      width: 32px;\n",
              "    }\n",
              "\n",
              "    .colab-df-convert:hover {\n",
              "      background-color: #E2EBFA;\n",
              "      box-shadow: 0px 1px 2px rgba(60, 64, 67, 0.3), 0px 1px 3px 1px rgba(60, 64, 67, 0.15);\n",
              "      fill: #174EA6;\n",
              "    }\n",
              "\n",
              "    [theme=dark] .colab-df-convert {\n",
              "      background-color: #3B4455;\n",
              "      fill: #D2E3FC;\n",
              "    }\n",
              "\n",
              "    [theme=dark] .colab-df-convert:hover {\n",
              "      background-color: #434B5C;\n",
              "      box-shadow: 0px 1px 3px 1px rgba(0, 0, 0, 0.15);\n",
              "      filter: drop-shadow(0px 1px 2px rgba(0, 0, 0, 0.3));\n",
              "      fill: #FFFFFF;\n",
              "    }\n",
              "  </style>\n",
              "\n",
              "      <script>\n",
              "        const buttonEl =\n",
              "          document.querySelector('#df-c0789c27-8df7-4b82-9026-30200513af4f button.colab-df-convert');\n",
              "        buttonEl.style.display =\n",
              "          google.colab.kernel.accessAllowed ? 'block' : 'none';\n",
              "\n",
              "        async function convertToInteractive(key) {\n",
              "          const element = document.querySelector('#df-c0789c27-8df7-4b82-9026-30200513af4f');\n",
              "          const dataTable =\n",
              "            await google.colab.kernel.invokeFunction('convertToInteractive',\n",
              "                                                     [key], {});\n",
              "          if (!dataTable) return;\n",
              "\n",
              "          const docLinkHtml = 'Like what you see? Visit the ' +\n",
              "            '<a target=\"_blank\" href=https://colab.research.google.com/notebooks/data_table.ipynb>data table notebook</a>'\n",
              "            + ' to learn more about interactive tables.';\n",
              "          element.innerHTML = '';\n",
              "          dataTable['output_type'] = 'display_data';\n",
              "          await google.colab.output.renderOutput(dataTable, element);\n",
              "          const docLink = document.createElement('div');\n",
              "          docLink.innerHTML = docLinkHtml;\n",
              "          element.appendChild(docLink);\n",
              "        }\n",
              "      </script>\n",
              "    </div>\n",
              "  </div>\n",
              "  "
            ]
          },
          "metadata": {},
          "execution_count": 35
        }
      ]
    },
    {
      "cell_type": "code",
      "source": [
        "# Menghitung rata-rata harga per unit untuk setiap kota\n",
        "average_prices = pivot_table_product.mean()\n",
        "average_prices"
      ],
      "metadata": {
        "colab": {
          "base_uri": "https://localhost:8080/"
        },
        "id": "6aVTaBQOvlLh",
        "outputId": "08e43758-3184-4269-b319-f4e5455e5e0c"
      },
      "execution_count": null,
      "outputs": [
        {
          "output_type": "execute_result",
          "data": {
            "text/plain": [
              "Region\n",
              "Midwest      40.362179\n",
              "Northeast    46.691498\n",
              "South        38.236690\n",
              "Southeast    50.183007\n",
              "West         49.944906\n",
              "dtype: float64"
            ]
          },
          "metadata": {},
          "execution_count": 36
        }
      ]
    },
    {
      "cell_type": "code",
      "source": [
        "from pandas.plotting import register_matplotlib_converters\n",
        "# Menghitung rata-rata harga per unit untuk setiap kota\n",
        "average_prices = pivot_table_product.mean()\n",
        "\n",
        "# Membuat plot bar untuk rata-rata harga per unit\n",
        "register_matplotlib_converters = average_prices.index\n",
        "prices = average_prices.values\n",
        "\n",
        "plt.bar(register_matplotlib_converters, prices)\n",
        "\n",
        "# Menambahkan label dan judul\n",
        "plt.xlabel('Region')\n",
        "plt.ylabel('Average Price per Unit')\n",
        "plt.title('Average Price per Unit in Each Region')\n",
        "\n",
        "# Menampilkan plot\n",
        "plt.show()"
      ],
      "metadata": {
        "colab": {
          "base_uri": "https://localhost:8080/",
          "height": 472
        },
        "id": "xcwE4MN6x69Z",
        "outputId": "60239270-4dec-4df5-c2ff-f39012800857"
      },
      "execution_count": null,
      "outputs": [
        {
          "output_type": "display_data",
          "data": {
            "text/plain": [
              "<Figure size 640x480 with 1 Axes>"
            ],
            "image/png": "[encoded data removed]"
          },
          "metadata": {}
        }
      ]
    },
    {
      "cell_type": "markdown",
      "source": [
        "# Insights & Recommendations"
      ],
      "metadata": {
        "id": "YXdrzZHP0cm8"
      }
    },
    {
      "cell_type": "markdown",
      "source": [
        "Insight:\n",
        "\n",
        "1. Price Range: The majority of products fall within the price range of `$`40 to `$`60, with an average product price of `$`45.22. This suggests that retailers should consider pricing their products within this range to align with market expectations.\n",
        "\n",
        "2. Sales Channel: It is evident that retailers sell more products in-store compared to other sales channels. This could indicate that customers prefer the in-store shopping experience. Retailers should focus on maintaining and improving their physical retail presence to cater to customer preferences.\n",
        "\n",
        "3. Regional Price Analysis:\n",
        "* Midwest: The average price per unit in the Midwest region is `$`40.36.\n",
        "Retailers operating in this region may want to maintain competitive pricing within this range to attract customers.\n",
        "\n",
        "* Northeast: The average price per unit in the Northeast region is `$`46.69. Retailers in this region could consider positioning their products at a slightly higher price point, taking into account the higher average pricing in this market.\n",
        "\n",
        "* South: The average price per unit in the South region is `$`38.23. Retailers operating in the South may want to focus on offering products at a relatively lower price point to cater to price-sensitive customers.\n",
        "\n",
        "* Southeast: The average price per unit in the Southeast region is `$`50.18. Retailers in this region may consider offering products at a slightly higher price point, considering the market's willingness to spend more on average.\n",
        "\n",
        "* West: The average price per unit in the West region is `$`49.94. Retailers in the West could position their products at a slightly higher price point, similar to the Northeast and Southeast regions.\n",
        "\n",
        "\n",
        "Recommendations based on these insights:\n",
        "\n",
        "1. Maintain competitive pricing: Retailers should consider pricing their products within the range of `$`40 to `$`60, which aligns with the majority of prices in the dataset.\n",
        "\n",
        "2. Strengthen in-store presence: Since in-store sales are dominant, retailers should focus on enhancing the in-store shopping experience to attract more customers and drive sales.\n",
        "\n",
        "3. Regional pricing strategies: Retailers should analyze the specific market dynamics in each region and adjust their pricing strategies accordingly. This may involve setting prices slightly higher or lower than the average depending on the region's average price per unit.\n",
        "\n"
      ],
      "metadata": {
        "id": "2CtrJNbH0fkC"
      }
    }
  ]
}